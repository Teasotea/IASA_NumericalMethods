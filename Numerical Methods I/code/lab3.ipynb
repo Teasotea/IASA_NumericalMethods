{
 "cells": [
  {
   "cell_type": "code",
   "execution_count": 11,
   "id": "6fbe38ed",
   "metadata": {},
   "outputs": [
    {
     "name": "stdout",
     "output_type": "stream",
     "text": [
      "Defaulting to user installation because normal site-packages is not writeable\n",
      "Requirement already satisfied: handcalcs in /home/sofia/.local/lib/python3.9/site-packages (1.4.1)\n",
      "Requirement already satisfied: more-itertools>=8.5.0 in /home/sofia/.local/lib/python3.9/site-packages (from handcalcs) (8.13.0)\n",
      "Requirement already satisfied: innerscope>=0.2.0 in /home/sofia/.local/lib/python3.9/site-packages (from handcalcs) (0.5.1)\n",
      "Requirement already satisfied: pyparsing>=2.4.7 in /home/sofia/.local/lib/python3.9/site-packages (from handcalcs) (2.4.7)\n",
      "Requirement already satisfied: nbconvert>=6.0.0 in /home/sofia/.local/lib/python3.9/site-packages (from handcalcs) (6.1.0)\n",
      "Requirement already satisfied: toolz in /home/sofia/.local/lib/python3.9/site-packages (from innerscope>=0.2.0->handcalcs) (0.11.2)\n",
      "Requirement already satisfied: jinja2>=2.4 in /home/sofia/.local/lib/python3.9/site-packages (from nbconvert>=6.0.0->handcalcs) (3.0.1)\n",
      "Requirement already satisfied: pygments>=2.4.1 in /home/sofia/.local/lib/python3.9/site-packages (from nbconvert>=6.0.0->handcalcs) (2.9.0)\n",
      "Requirement already satisfied: pandocfilters>=1.4.1 in /home/sofia/.local/lib/python3.9/site-packages (from nbconvert>=6.0.0->handcalcs) (1.4.3)\n",
      "Requirement already satisfied: nbformat>=4.4 in /home/sofia/.local/lib/python3.9/site-packages (from nbconvert>=6.0.0->handcalcs) (5.1.3)\n",
      "Requirement already satisfied: bleach in /home/sofia/.local/lib/python3.9/site-packages (from nbconvert>=6.0.0->handcalcs) (4.0.0)\n",
      "Requirement already satisfied: testpath in /home/sofia/.local/lib/python3.9/site-packages (from nbconvert>=6.0.0->handcalcs) (0.5.0)\n",
      "Requirement already satisfied: jupyter-core in /home/sofia/.local/lib/python3.9/site-packages (from nbconvert>=6.0.0->handcalcs) (4.7.1)\n",
      "Requirement already satisfied: entrypoints>=0.2.2 in /home/sofia/.local/lib/python3.9/site-packages (from nbconvert>=6.0.0->handcalcs) (0.3)\n",
      "Requirement already satisfied: defusedxml in /home/sofia/.local/lib/python3.9/site-packages (from nbconvert>=6.0.0->handcalcs) (0.7.1)\n",
      "Requirement already satisfied: mistune<2,>=0.8.1 in /home/sofia/.local/lib/python3.9/site-packages (from nbconvert>=6.0.0->handcalcs) (0.8.4)\n",
      "Requirement already satisfied: nbclient<0.6.0,>=0.5.0 in /home/sofia/.local/lib/python3.9/site-packages (from nbconvert>=6.0.0->handcalcs) (0.5.3)\n",
      "Requirement already satisfied: traitlets>=5.0 in /home/sofia/.local/lib/python3.9/site-packages (from nbconvert>=6.0.0->handcalcs) (5.0.5)\n",
      "Requirement already satisfied: jupyterlab-pygments in /home/sofia/.local/lib/python3.9/site-packages (from nbconvert>=6.0.0->handcalcs) (0.1.2)\n",
      "Requirement already satisfied: MarkupSafe>=2.0 in /home/sofia/.local/lib/python3.9/site-packages (from jinja2>=2.4->nbconvert>=6.0.0->handcalcs) (2.0.1)\n",
      "Requirement already satisfied: nest-asyncio in /home/sofia/.local/lib/python3.9/site-packages (from nbclient<0.6.0,>=0.5.0->nbconvert>=6.0.0->handcalcs) (1.5.1)\n",
      "Requirement already satisfied: async-generator in /home/sofia/.local/lib/python3.9/site-packages (from nbclient<0.6.0,>=0.5.0->nbconvert>=6.0.0->handcalcs) (1.10)\n",
      "Requirement already satisfied: jupyter-client>=6.1.5 in /home/sofia/.local/lib/python3.9/site-packages (from nbclient<0.6.0,>=0.5.0->nbconvert>=6.0.0->handcalcs) (6.1.12)\n",
      "Requirement already satisfied: jsonschema!=2.5.0,>=2.4 in /home/sofia/.local/lib/python3.9/site-packages (from nbformat>=4.4->nbconvert>=6.0.0->handcalcs) (3.2.0)\n",
      "Requirement already satisfied: ipython-genutils in /home/sofia/.local/lib/python3.9/site-packages (from nbformat>=4.4->nbconvert>=6.0.0->handcalcs) (0.2.0)\n",
      "Requirement already satisfied: packaging in /home/sofia/.local/lib/python3.9/site-packages (from bleach->nbconvert>=6.0.0->handcalcs) (21.0)\n",
      "Requirement already satisfied: six>=1.9.0 in /usr/lib/python3/dist-packages (from bleach->nbconvert>=6.0.0->handcalcs) (1.15.0)\n",
      "Requirement already satisfied: webencodings in /home/sofia/.local/lib/python3.9/site-packages (from bleach->nbconvert>=6.0.0->handcalcs) (0.5.1)\n",
      "Requirement already satisfied: setuptools in /usr/lib/python3/dist-packages (from jsonschema!=2.5.0,>=2.4->nbformat>=4.4->nbconvert>=6.0.0->handcalcs) (52.0.0)\n",
      "Requirement already satisfied: pyrsistent>=0.14.0 in /home/sofia/.local/lib/python3.9/site-packages (from jsonschema!=2.5.0,>=2.4->nbformat>=4.4->nbconvert>=6.0.0->handcalcs) (0.18.0)\n",
      "Requirement already satisfied: attrs>=17.4.0 in /home/sofia/.local/lib/python3.9/site-packages (from jsonschema!=2.5.0,>=2.4->nbformat>=4.4->nbconvert>=6.0.0->handcalcs) (21.2.0)\n",
      "Requirement already satisfied: pyzmq>=13 in /home/sofia/.local/lib/python3.9/site-packages (from jupyter-client>=6.1.5->nbclient<0.6.0,>=0.5.0->nbconvert>=6.0.0->handcalcs) (22.2.1)\n",
      "Requirement already satisfied: python-dateutil>=2.1 in /home/sofia/.local/lib/python3.9/site-packages (from jupyter-client>=6.1.5->nbclient<0.6.0,>=0.5.0->nbconvert>=6.0.0->handcalcs) (2.8.2)\n",
      "Requirement already satisfied: tornado>=4.1 in /home/sofia/.local/lib/python3.9/site-packages (from jupyter-client>=6.1.5->nbclient<0.6.0,>=0.5.0->nbconvert>=6.0.0->handcalcs) (6.1)\n"
     ]
    }
   ],
   "source": [
    "!pip install handcalcs"
   ]
  },
  {
   "cell_type": "code",
   "execution_count": 38,
   "id": "7429a652",
   "metadata": {},
   "outputs": [],
   "source": [
    "import numpy as np\n",
    "import copy\n",
    "import matplotlib.pyplot as plt\n",
    "from matplotlib.pyplot import figure\n",
    "import handcalcs.render"
   ]
  },
  {
   "cell_type": "code",
   "execution_count": 69,
   "id": "13793235",
   "metadata": {},
   "outputs": [
    {
     "data": {
      "text/plain": [
       "array([[5.554, 0.252, 0.496, 0.237],\n",
       "       [0.58 , 4.953, 0.467, 0.028],\n",
       "       [0.319, 0.372, 8.935, 0.52 ],\n",
       "       [0.043, 0.459, 0.319, 4.778]])"
      ]
     },
     "execution_count": 69,
     "metadata": {},
     "output_type": "execute_result"
    }
   ],
   "source": [
    "A = np.array([[5.554, 0.252, 0.496, 0.237],\n",
    "[0.580, 4.953, 0.467, 0.028],\n",
    "[0.319, 0.372, 8.935, 0.520],\n",
    "[0.043, 0.459, 0.319, 4.778]])\n",
    "A"
   ]
  },
  {
   "cell_type": "code",
   "execution_count": 83,
   "id": "f9c5387e",
   "metadata": {},
   "outputs": [],
   "source": [
    "B = np.array([0.442, 0.464, 0.979, 0.126])\n",
    "eps = 0.00001"
   ]
  },
  {
   "cell_type": "code",
   "execution_count": 84,
   "id": "de77f269",
   "metadata": {},
   "outputs": [
    {
     "data": {
      "text/plain": [
       "array([0.06640598, 0.07609387, 0.10335724, 0.01156268])"
      ]
     },
     "execution_count": 84,
     "metadata": {},
     "output_type": "execute_result"
    }
   ],
   "source": [
    "progr_x = np.linalg.solve(np.array(A), np.array(B))\n",
    "progr_x"
   ]
  },
  {
   "cell_type": "code",
   "execution_count": 85,
   "id": "41398c5b",
   "metadata": {},
   "outputs": [
    {
     "data": {
      "text/plain": [
       "True"
      ]
     },
     "execution_count": 85,
     "metadata": {},
     "output_type": "execute_result"
    }
   ],
   "source": [
    "np.allclose(np.dot(np.array(A), progr_x), np.array(B))"
   ]
  },
  {
   "cell_type": "markdown",
   "id": "aca9c74a",
   "metadata": {},
   "source": [
    "## Метод Якобі"
   ]
  },
  {
   "cell_type": "code",
   "execution_count": 86,
   "id": "db7d0ed1",
   "metadata": {},
   "outputs": [
    {
     "data": {
      "text/plain": [
       "(array([[5.554, 0.252, 0.496, 0.237],\n",
       "        [0.58 , 4.953, 0.467, 0.028],\n",
       "        [0.319, 0.372, 8.935, 0.52 ],\n",
       "        [0.043, 0.459, 0.319, 4.778]]),\n",
       " array([0.442, 0.464, 0.979, 0.126]))"
      ]
     },
     "execution_count": 86,
     "metadata": {},
     "output_type": "execute_result"
    }
   ],
   "source": [
    "A, B"
   ]
  },
  {
   "cell_type": "markdown",
   "id": "5a8ccc60",
   "metadata": {},
   "source": [
    "### Перевірка умови діагональної переваги"
   ]
  },
  {
   "cell_type": "code",
   "execution_count": 87,
   "id": "b8d713e9",
   "metadata": {},
   "outputs": [],
   "source": [
    "def cond0fDiagAdvantage(A):\n",
    "    diag = np.diag(A)\n",
    "    A = copy.deepcopy(A[~np.eye(A.shape[0],dtype=bool)].reshape(A.shape[0],-1))\n",
    "    for i, j in enumerate(A):\n",
    "        if sum(abs(np.array(j))) > abs(diag[i]):\n",
    "            return False\n",
    "    return True"
   ]
  },
  {
   "cell_type": "code",
   "execution_count": 88,
   "id": "8407a7c0",
   "metadata": {},
   "outputs": [
    {
     "data": {
      "text/plain": [
       "True"
      ]
     },
     "execution_count": 88,
     "metadata": {},
     "output_type": "execute_result"
    }
   ],
   "source": [
    "cond0fDiagAdvantage(A)"
   ]
  },
  {
   "cell_type": "markdown",
   "id": "1de602f0",
   "metadata": {},
   "source": [
    "### Зведення системи до вигляду x = Bx + c:"
   ]
  },
  {
   "cell_type": "code",
   "execution_count": 89,
   "id": "da4dc51a",
   "metadata": {},
   "outputs": [],
   "source": [
    "def reformMatr(A, B):\n",
    "    diag = np.diag(A)\n",
    "    A = copy.deepcopy(A[~np.eye(A.shape[0],dtype=bool)].reshape(A.shape[0],-1))\n",
    "    B = copy.deepcopy(B)\n",
    "    for i, j in enumerate(A):\n",
    "        A[i] = np.array(j)/diag[i]\n",
    "        B[i] = B[i]/diag[i]\n",
    "    return A, np.array(B)"
   ]
  },
  {
   "cell_type": "code",
   "execution_count": 90,
   "id": "238ac4b2",
   "metadata": {},
   "outputs": [
    {
     "data": {
      "text/plain": [
       "(array([[0.0453727 , 0.08930501, 0.04267195],\n",
       "        [0.11710075, 0.09428629, 0.00565314],\n",
       "        [0.03570229, 0.04163402, 0.0581981 ],\n",
       "        [0.00899958, 0.0960653 , 0.06676434]]),\n",
       " array([0.07958228, 0.0936806 , 0.10956911, 0.02637087]))"
      ]
     },
     "execution_count": 90,
     "metadata": {},
     "output_type": "execute_result"
    }
   ],
   "source": [
    "newA, newB = reformMatr(A, B)\n",
    "newA, newB"
   ]
  },
  {
   "cell_type": "markdown",
   "id": "a7a531de",
   "metadata": {},
   "source": [
    "### Перша матрична норма (норма-cума або сума модулiв елементiв)"
   ]
  },
  {
   "cell_type": "code",
   "execution_count": 91,
   "id": "beac188c",
   "metadata": {},
   "outputs": [],
   "source": [
    "def firstMatrNorm(A):\n",
    "    matrSum = np.zeros(A.shape[1])\n",
    "    for i, j in enumerate(A):\n",
    "         matrSum += abs(np.array(j))\n",
    "    return max(matrSum)"
   ]
  },
  {
   "cell_type": "code",
   "execution_count": 92,
   "id": "5c4652cc",
   "metadata": {},
   "outputs": [
    {
     "data": {
      "text/plain": [
       "0.3212906193296803"
      ]
     },
     "execution_count": 92,
     "metadata": {},
     "output_type": "execute_result"
    }
   ],
   "source": [
    "firstMatrNorm(reformMatr(A, B)[0])"
   ]
  },
  {
   "cell_type": "markdown",
   "id": "7452018c",
   "metadata": {},
   "source": [
    "### Норма Чебишова (норма-максимум або  максимум серед модулiв елементiв)"
   ]
  },
  {
   "cell_type": "code",
   "execution_count": 93,
   "id": "ce8e310a",
   "metadata": {},
   "outputs": [],
   "source": [
    "def chebNorm(A):\n",
    "    matrSum = np.zeros(A.shape[0])\n",
    "    for i, j in enumerate(A):\n",
    "         matrSum[i] = sum(abs(np.array(j)))\n",
    "    return max(matrSum)"
   ]
  },
  {
   "cell_type": "code",
   "execution_count": 94,
   "id": "d2a7ec86",
   "metadata": {},
   "outputs": [
    {
     "data": {
      "text/plain": [
       "0.21704017767009892"
      ]
     },
     "execution_count": 94,
     "metadata": {},
     "output_type": "execute_result"
    }
   ],
   "source": [
    "chebNorm(reformMatr(A, B)[0])"
   ]
  },
  {
   "cell_type": "markdown",
   "id": "d2ad41b9",
   "metadata": {},
   "source": [
    "### Реалізація методу Якобі для розв'язання СЛАР"
   ]
  },
  {
   "cell_type": "code",
   "execution_count": 114,
   "id": "ac781c0e",
   "metadata": {},
   "outputs": [],
   "source": [
    "def jacobiMethod(A, B, eps):\n",
    "    stopСriterion, res = [], []\n",
    "    x_next, x =  np.zeros(B.shape),np.zeros(B.shape)\n",
    "    checkStopСriterion = lambda x, x_next, eps: chebNorm((x_next-x).reshape(B.shape[0], 1)) < eps\n",
    "    while True:\n",
    "        for i, j in enumerate(A):\n",
    "            x_next[i] = B[i] - np.dot(j, np.delete(x, i))\n",
    "        stopСriterion.append(chebNorm((x_next-x).reshape(B.shape[0], 1)))\n",
    "        print(\"%01.10f\" % (chebNorm((x_next-x).reshape(B.shape[0], 1))))\n",
    "        res.append(copy.deepcopy(x_next))\n",
    "        if checkStopСriterion(x, x_next, eps): break\n",
    "        x = copy.deepcopy(x_next)\n",
    "    return x_next, np.array(stopСriterion), np.array(res)"
   ]
  },
  {
   "cell_type": "code",
   "execution_count": 115,
   "id": "89bbcb79",
   "metadata": {},
   "outputs": [
    {
     "name": "stdout",
     "output_type": "stream",
     "text": [
      "0.1095691102\n",
      "0.0197990880\n",
      "0.0026519742\n",
      "0.0005137074\n",
      "0.0000867202\n",
      "0.0000148216\n",
      "0.0000025733\n"
     ]
    },
    {
     "data": {
      "text/plain": [
       "(array([0.0664063 , 0.07609425, 0.10335751, 0.01156301]),\n",
       " array([1.09569110e-01, 1.97990880e-02, 2.65197420e-03, 5.13707354e-04,\n",
       "        8.67201903e-05, 1.48216052e-05, 2.57329826e-06]),\n",
       " array([[0.07958228, 0.0936806 , 0.10956911, 0.02637087],\n",
       "        [0.06442137, 0.07388151, 0.10129281, 0.0093399 ],\n",
       "        [0.06678557, 0.07653348, 0.10364957, 0.0119309 ],\n",
       "        [0.06634421, 0.07601978, 0.10330396, 0.01149752],\n",
       "        [0.06641688, 0.0761065 , 0.10336633, 0.01157391],\n",
       "        [0.06640411, 0.07609168, 0.10335568, 0.01156076],\n",
       "        [0.0664063 , 0.07609425, 0.10335751, 0.01156301]]))"
      ]
     },
     "execution_count": 115,
     "metadata": {},
     "output_type": "execute_result"
    }
   ],
   "source": [
    "jacobiMethod(newA, newB, eps)"
   ]
  },
  {
   "cell_type": "code",
   "execution_count": 118,
   "id": "535d4398",
   "metadata": {},
   "outputs": [
    {
     "data": {
      "text/plain": [
       "array([ 5,  6,  9, 12])"
      ]
     },
     "execution_count": 118,
     "metadata": {},
     "output_type": "execute_result"
    }
   ],
   "source": [
    "changedB = np.array([5,6,9,12])#np.array([0.5,0.5,0.5,0.5])\n",
    "changedB"
   ]
  },
  {
   "cell_type": "code",
   "execution_count": 119,
   "id": "9cbedcbb",
   "metadata": {},
   "outputs": [
    {
     "name": "stdout",
     "output_type": "stream",
     "text": [
      "12.0000000000\n",
      "1.5880446525\n",
      "0.2991025544\n",
      "0.0451402889\n",
      "0.0081944266\n",
      "0.0014032644\n",
      "0.0002403339\n",
      "0.0000415772\n",
      "0.0000071508\n"
     ]
    },
    {
     "data": {
      "text/plain": [
       "(array([ 3.59824657,  4.75904131,  8.03473091, 10.97400617]),\n",
       " array([1.20000000e+01, 1.58804465e+00, 2.99102554e-01, 4.51402889e-02,\n",
       "        8.19442655e-03, 1.40326436e-03, 2.40333855e-04, 4.15772097e-05,\n",
       "        7.15078574e-06]),\n",
       " array([[ 5.        ,  6.        ,  9.        , 12.        ],\n",
       "        [ 3.41195535,  4.49808197,  7.87330722, 10.77773127],\n",
       "        [ 3.63287732,  4.79718452,  8.06366866, 11.01152811],\n",
       "        [ 3.59232944,  4.75204424,  8.02972187, 10.96809717],\n",
       "        [ 3.59926247,  4.76023866,  8.03557649, 10.97506493],\n",
       "        [ 3.5980705 ,  4.7588354 ,  8.03458229, 10.97382446],\n",
       "        [ 3.59827589,  4.75907573,  8.03475546, 10.97403637],\n",
       "        [ 3.59824047,  4.75903415,  8.03472579, 10.97399987],\n",
       "        [ 3.59824657,  4.75904131,  8.03473091, 10.97400617]]))"
      ]
     },
     "execution_count": 119,
     "metadata": {},
     "output_type": "execute_result"
    }
   ],
   "source": [
    "jacobiMethod(newA, changedB, eps)"
   ]
  },
  {
   "cell_type": "markdown",
   "id": "5de481bc",
   "metadata": {},
   "source": [
    "### Перевірка достатніх умов збіжності та розв'язання СЛАР вказаним методом\n",
    "* Для матрицi A виконується умова дiагональної переваги\n",
    "* $\\Vert B \\Vert_{\\infty}$ < 1"
   ]
  },
  {
   "cell_type": "code",
   "execution_count": 31,
   "id": "11cdf7f8",
   "metadata": {},
   "outputs": [],
   "source": [
    "def solveSystemIter(A, B, eps, func):\n",
    "    if not cond0fDiagAdvantage(A):\n",
    "        print(\"Your matrix doesn't follow the condition of diagonal advantage\")\n",
    "        return -1\n",
    "    else: \n",
    "        newA, newB = reformMatr(A, B)\n",
    "        if chebNorm(newA) >= 1:\n",
    "            print(\"Inputs don't follow the sufficient condition of convergence\")\n",
    "            return -1\n",
    "        else:\n",
    "            return func(newA, newB, eps)"
   ]
  },
  {
   "cell_type": "code",
   "execution_count": 51,
   "id": "e2c68260",
   "metadata": {},
   "outputs": [
    {
     "data": {
      "text/plain": [
       "array([[0.07958228, 0.0936806 , 0.10956911, 0.02637087],\n",
       "       [0.06442137, 0.07388151, 0.10129281, 0.0093399 ],\n",
       "       [0.06678557, 0.07653348, 0.10364957, 0.0119309 ],\n",
       "       [0.06634421, 0.07601978, 0.10330396, 0.01149752],\n",
       "       [0.06641688, 0.0761065 , 0.10336633, 0.01157391],\n",
       "       [0.06640411, 0.07609168, 0.10335568, 0.01156076],\n",
       "       [0.0664063 , 0.07609425, 0.10335751, 0.01156301]])"
      ]
     },
     "execution_count": 51,
     "metadata": {},
     "output_type": "execute_result"
    }
   ],
   "source": [
    "jacobiResults = solveSystemIter(A, B, eps, jacobiMethod)[2]\n",
    "jacobiResults"
   ]
  },
  {
   "cell_type": "code",
   "execution_count": 64,
   "id": "0e631b68",
   "metadata": {},
   "outputs": [
    {
     "data": {
      "text/plain": [
       "array([[5.554, 0.252, 0.496, 0.237],\n",
       "       [0.58 , 4.953, 0.467, 0.028],\n",
       "       [0.319, 0.372, 8.935, 0.52 ],\n",
       "       [0.043, 0.459, 0.319, 4.778]])"
      ]
     },
     "execution_count": 64,
     "metadata": {},
     "output_type": "execute_result"
    }
   ],
   "source": [
    "A"
   ]
  },
  {
   "cell_type": "code",
   "execution_count": 50,
   "id": "e1ce67e8",
   "metadata": {},
   "outputs": [
    {
     "data": {
      "text/plain": [
       "array([0.0664063 , 0.07609425, 0.10335751, 0.01156301])"
      ]
     },
     "execution_count": 50,
     "metadata": {},
     "output_type": "execute_result"
    }
   ],
   "source": [
    "final_x = solveSystemIter(A, B, eps, jacobiMethod)[0]\n",
    "final_x"
   ]
  },
  {
   "cell_type": "code",
   "execution_count": 59,
   "id": "282ffeb2",
   "metadata": {},
   "outputs": [
    {
     "data": {
      "text/plain": [
       "array([0.44200209, 0.46400219, 0.97900282, 0.12600186])"
      ]
     },
     "execution_count": 59,
     "metadata": {},
     "output_type": "execute_result"
    }
   ],
   "source": [
    "b = np.dot(A,final_x)\n",
    "b"
   ]
  },
  {
   "cell_type": "code",
   "execution_count": 60,
   "id": "c0a11d16",
   "metadata": {},
   "outputs": [
    {
     "data": {
      "text/plain": [
       "[0.442, 0.464, 0.979, 0.126]"
      ]
     },
     "execution_count": 60,
     "metadata": {},
     "output_type": "execute_result"
    }
   ],
   "source": [
    "B"
   ]
  },
  {
   "cell_type": "code",
   "execution_count": 63,
   "id": "f402b3e8",
   "metadata": {},
   "outputs": [
    {
     "name": "stdout",
     "output_type": "stream",
     "text": [
      "-0.0000020933\n",
      "-0.0000021885\n",
      "-0.0000028241\n",
      "-0.0000018614\n"
     ]
    }
   ],
   "source": [
    "for i in (B - b):\n",
    "    print(\"%01.10f\" % i)"
   ]
  },
  {
   "cell_type": "markdown",
   "id": "b4e4813d",
   "metadata": {},
   "source": [
    "### Двосторонній характер збіжності ітераційної послідовності\n",
    "Зобразимо на графіку знайдені наближення з допомогою методу Якобі та порівняємо з результатом, знайденим з допомогою функції linalg.solve"
   ]
  },
  {
   "cell_type": "code",
   "execution_count": 33,
   "id": "15968bd6",
   "metadata": {},
   "outputs": [
    {
     "data": {
      "image/png": "[encoded data removed]",
      "text/plain": [
       "<Figure size 800x640 with 1 Axes>"
      ]
     },
     "metadata": {},
     "output_type": "display_data"
    }
   ],
   "source": [
    "figure(num=None, figsize=(10, 8), dpi=80, facecolor='w', edgecolor='k')\n",
    "plt.title('Сonvergence nature of the iterative sequence')\n",
    "col = ['b-o', 'c-o', 'r-o', 'y-o']\n",
    "plt.grid(True)\n",
    "for i, j in enumerate(np.transpose(jacobiResults)):\n",
    "    plt.plot([i+1 for i in range(np.transpose(jacobiResults).shape[1])], j, col[i], \n",
    "             linewidth=2, label=\"x\"+str(i+1))\n",
    "plt.yticks(np.arange(0, 0.15, 0.005))\n",
    "plt.xticks(np.arange(0, 8, 1))\n",
    "plt.xlabel('iteration k')\n",
    "plt.ylabel('approximation x^(k)')\n",
    "plt.plot( np.full((4,), 7, dtype=float), progr_x, 'ks', label=\"linalg.solve\")\n",
    "plt.legend(bbox_to_anchor=(0.2, 0.5))\n",
    "plt.savefig('convergence_iter_seq.jpg', dpi = 300)\n",
    "plt.show()"
   ]
  },
  {
   "cell_type": "code",
   "execution_count": null,
   "id": "0529fb37",
   "metadata": {},
   "outputs": [],
   "source": []
  },
  {
   "cell_type": "code",
   "execution_count": null,
   "id": "18e5f279",
   "metadata": {},
   "outputs": [],
   "source": []
  },
  {
   "cell_type": "code",
   "execution_count": null,
   "id": "206088df",
   "metadata": {},
   "outputs": [],
   "source": []
  },
  {
   "cell_type": "code",
   "execution_count": null,
   "id": "3e014122",
   "metadata": {},
   "outputs": [],
   "source": []
  }
 ],
 "metadata": {
  "kernelspec": {
   "display_name": "Python 3 (ipykernel)",
   "language": "python",
   "name": "python3"
  },
  "language_info": {
   "codemirror_mode": {
    "name": "ipython",
    "version": 3
   },
   "file_extension": ".py",
   "mimetype": "text/x-python",
   "name": "python",
   "nbconvert_exporter": "python",
   "pygments_lexer": "ipython3",
   "version": "3.9.5"
  }
 },
 "nbformat": 4,
 "nbformat_minor": 5
}
