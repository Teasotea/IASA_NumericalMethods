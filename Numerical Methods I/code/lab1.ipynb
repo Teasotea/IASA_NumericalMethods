{
 "cells": [
  {
   "cell_type": "code",
   "execution_count": 107,
   "id": "TuN0mV3fkh9W",
   "metadata": {
    "id": "TuN0mV3fkh9W"
   },
   "outputs": [],
   "source": [
    "import numpy as np\n",
    "import matplotlib.pyplot as plt\n",
    "from scipy.optimize import fsolve\n",
    "from sympy import*\n",
    "import time"
   ]
  },
  {
   "cell_type": "markdown",
   "id": "10b56790",
   "metadata": {
    "id": "10b56790"
   },
   "source": [
    "## Завдання 1"
   ]
  },
  {
   "cell_type": "markdown",
   "id": "200aacde",
   "metadata": {
    "id": "200aacde"
   },
   "source": [
    "Розіб'ємо проміжок існування коренів рівняння $150x^7+ 249x^6- 661x^5 - 905x^4 + 885x^3 + 917x^2 - 290x- 256 = 0$ (знайдений за теоремою 2.3, див. приклад) на менші відрізки і знайдемо ті, на яких функція змінює знак"
   ]
  },
  {
   "cell_type": "code",
   "execution_count": 2,
   "id": "5e7632c9",
   "metadata": {
    "id": "5e7632c9"
   },
   "outputs": [],
   "source": [
    "def eq(x):\n",
    "    return (150*x**7+ 249*x**6- 661*x**5-905*x**4 + 885 *x**3 + 917* x**2 - 290* x- 256)\n"
   ]
  },
  {
   "cell_type": "code",
   "execution_count": 67,
   "id": "4fb842bb",
   "metadata": {
    "colab": {
     "base_uri": "https://localhost:8080/"
    },
    "id": "4fb842bb",
    "outputId": "be23d31f-aaf7-4f45-fe5c-13150af19ab4"
   },
   "outputs": [
    {
     "name": "stdout",
     "output_type": "stream",
     "text": [
      "в точці -2.35 функція набуває значення -3654.416812679693\n",
      "в точці -2.25 функція набуває значення -1602.0108642578125\n",
      "в точці -2.15 функція набуває значення -419.9814006484403\n",
      "в точці -2.05 функція набуває значення 174.2505800234362\n",
      "в точці -1.9499999999999997 функція набуває значення 394.1174246328154\n",
      "в точці -1.8499999999999996 функція набуває значення 396.0322950546873\n",
      "в точці -1.7499999999999996 функція набуває значення 290.146118164061\n",
      "в точці -1.6499999999999995 функція набуває значення 149.80961583593745\n",
      "в точці -1.5499999999999994 функція набуває значення 19.81601494531361\n",
      "в точці -1.4499999999999993 функція набуває значення -76.49996263281287\n",
      "в точці -1.3499999999999992 функція набуває значення -131.23123002343755\n",
      "в точці -1.2499999999999991 функція набуває значення -146.8599853515621\n",
      "в точці -1.149999999999999 функція набуває значення -132.13628174218735\n",
      "в точці -1.049999999999999 функція набуває значення -98.79791732031214\n",
      "в точці -0.949999999999999 функція набуває значення -59.05604521093716\n",
      "в точці -0.849999999999999 функція набуває значення -23.770903539062203\n",
      "в точці -0.749999999999999 функція набуває значення -1.2420654296873295\n",
      "в точці -0.649999999999999 функція набуває значення 3.4623909921874088\n",
      "в точці -0.549999999999999 функція набуває значення -11.286607398437752\n",
      "в точці -0.44999999999999907 функція набуває значення -43.859338726562896\n",
      "в точці -0.3499999999999991 функція набуває значення -89.85961611718795\n",
      "в точці -0.24999999999999908 функція набуває значення -142.853637695313\n",
      "в точці -0.14999999999999908 функція набуває значення -195.25975658593796\n",
      "в точці -0.04999999999999907 функція набуває значення -239.32357091406286\n",
      "в точці 0.05000000000000093 функція набуває значення -268.10273380468766\n",
      "в точці 0.15000000000000094 функція набуває значення -276.3858833828125\n",
      "в точці 0.25000000000000094 функція набуває значення -261.4700927734373\n",
      "в точці 0.350000000000001 функція набуває значення -223.72124010156205\n",
      "в точці 0.45000000000000095 функція набуває значення -166.84169849218694\n",
      "в точці 0.5500000000000009 функція набуває значення -97.76974607031178\n",
      "в точці 0.6500000000000009 функція набуває значення -26.135095960936866\n",
      "в точці 0.7500000000000009 функція набуває значення 36.805053710937955\n",
      "в точці 0.8500000000000009 функція набуває значення 79.82504982031287\n",
      "в точці 0.9500000000000008 функція набуває значення 94.06049424218759\n",
      "в точці 1.050000000000001 функція набуває значення 76.08423385156215\n",
      "в точці 1.150000000000001 функція набуває значення 31.804230523436843\n",
      "в точці 1.250000000000001 функція набуває значення -18.741088867188296\n",
      "в точці 1.3500000000000012 функція набуває значення -35.61440244531161\n",
      "в точці 1.4500000000000013 функція набуває значення 47.83761666406491\n",
      "в точці 1.5500000000000014 функція набуває значення 332.9256903359428\n",
      "в точці 1.6500000000000015 функція набуває значення 964.7592054453253\n",
      "в точці 1.7500000000000016 функція набуває значення 2142.6629638672102\n",
      "в точці 1.8500000000000016 функція набуває значення 4131.9450124766045\n",
      "в точці 1.9500000000000017 функція набуває значення 7277.091153148507\n",
      "в точці 2.0500000000000016 функція набуває значення 12016.461732757902\n",
      "в точці 2.1500000000000017 функція набуває значення 18898.566313179825\n",
      "в точці 2.2500000000000018 функція набуває значення 28599.99182128926\n",
      "в точці 2.350000000000002 функція набуває значення 41945.05977896123\n",
      "в точці 2.450000000000002 функція набуває значення 59927.288213070715\n"
     ]
    }
   ],
   "source": [
    "sign = []\n",
    "t = -2.35\n",
    "while t<2.5:\n",
    " print('в точці', t, 'функція набуває значення', eq(t))\n",
    " if eq(t) > 0:\n",
    "   sign.append('-')\n",
    " else:\n",
    "  sign.append('+')\n",
    " t =t+0.1    "
   ]
  },
  {
   "cell_type": "code",
   "execution_count": 68,
   "id": "SlEArUHK2JRY",
   "metadata": {
    "colab": {
     "base_uri": "https://localhost:8080/"
    },
    "id": "SlEArUHK2JRY",
    "outputId": "ea48b757-1090-4484-d6e7-beef9f72251c"
   },
   "outputs": [
    {
     "name": "stdout",
     "output_type": "stream",
     "text": [
      "7\n"
     ]
    }
   ],
   "source": [
    "# let's count how many times the sign changes\n",
    "def count_sign_changes(l):\n",
    "  c = 0\n",
    "  for i,j in enumerate(l):\n",
    "    if i!= len(l)-1 and j != l[i+1]:\n",
    "      c=c+1\n",
    "  return c\n",
    "  \n",
    "print(count_sign_changes(sign))"
   ]
  },
  {
   "cell_type": "markdown",
   "id": "987fd231",
   "metadata": {
    "id": "987fd231"
   },
   "source": [
    "Отримали 7 проміжків, на яких функція змінює знак. Оскільки рівняння всього має 7 коренів, то на кожному з таких проміжків буде лише один корінь"
   ]
  },
  {
   "cell_type": "markdown",
   "id": "7bd91058",
   "metadata": {
    "id": "7bd91058"
   },
   "source": [
    "### Отже, проміжки ізоляції коренів:"
   ]
  },
  {
   "cell_type": "markdown",
   "id": "c495ae1a",
   "metadata": {
    "id": "c495ae1a"
   },
   "source": [
    "(-2.15; -2.05), (-1.55; -1.45), (-0.75;-0.65), (-0.65;-0.55), (0.65;0.75), (1.15;1.25), (1.35;1.45)"
   ]
  },
  {
   "cell_type": "markdown",
   "id": "18306f38",
   "metadata": {
    "id": "18306f38"
   },
   "source": [
    "## Графічний спосіб відокремлення коренів"
   ]
  },
  {
   "cell_type": "code",
   "execution_count": null,
   "id": "abbc5471",
   "metadata": {
    "id": "abbc5471"
   },
   "outputs": [],
   "source": [
    "import numpy as np\n",
    "import matplotlib.pyplot as plt"
   ]
  },
  {
   "cell_type": "markdown",
   "id": "76fd28b1",
   "metadata": {
    "id": "76fd28b1"
   },
   "source": [
    "Функція numpy.linspace() в Python використовується для генерації послідовності чисел з одинаковим кроком"
   ]
  },
  {
   "cell_type": "code",
   "execution_count": null,
   "id": "66fca47e",
   "metadata": {
    "colab": {
     "base_uri": "https://localhost:8080/",
     "height": 265
    },
    "id": "66fca47e",
    "outputId": "6af0cbdd-06f1-4482-9554-da1044ea955f"
   },
   "outputs": [
    {
     "data": {
      "image/png": "[encoded data removed]",
      "text/plain": [
       "<Figure size 432x288 with 1 Axes>"
      ]
     },
     "metadata": {
      "needs_background": "light"
     },
     "output_type": "display_data"
    }
   ],
   "source": [
    "t=np.linspace(-2.25,2.5,10000)\n",
    "plt.plot(t,eq(t))\n",
    "plt.axhline(0, color='black')\n",
    "plt.grid()"
   ]
  },
  {
   "cell_type": "code",
   "execution_count": 79,
   "id": "nT8z_0EY28-o",
   "metadata": {
    "colab": {
     "base_uri": "https://localhost:8080/"
    },
    "id": "nT8z_0EY28-o",
    "outputId": "248b06a5-a7d9-42fa-fb05-60ef30f2ab47"
   },
   "outputs": [
    {
     "name": "stdout",
     "output_type": "stream",
     "text": [
      "[1.4133009]\n",
      "[1.63140612e-10]\n"
     ]
    }
   ],
   "source": [
    "x=fsolve(eq,2)\n",
    "print(x)\n",
    "print(eq(x))"
   ]
  },
  {
   "cell_type": "code",
   "execution_count": null,
   "id": "D9T5stgULn0I",
   "metadata": {
    "colab": {
     "base_uri": "https://localhost:8080/",
     "height": 268
    },
    "id": "D9T5stgULn0I",
    "outputId": "25e73250-a951-4eb0-acae-709fa3b4000a"
   },
   "outputs": [
    {
     "data": {
      "image/png": "[encoded data removed]",
      "text/plain": [
       "<Figure size 432x288 with 1 Axes>"
      ]
     },
     "metadata": {
      "needs_background": "light"
     },
     "output_type": "display_data"
    }
   ],
   "source": [
    "t=np.linspace(-2.15,-2.05,100)\n",
    "plt.plot(t,eq(t))\n",
    "plt.axhline(0, color='black')\n",
    "plt.grid()\n"
   ]
  },
  {
   "cell_type": "code",
   "execution_count": null,
   "id": "0a2c90f8",
   "metadata": {
    "colab": {
     "base_uri": "https://localhost:8080/",
     "height": 265
    },
    "id": "0a2c90f8",
    "outputId": "4aabe15b-d490-4d16-f1b3-82dcab1722ca"
   },
   "outputs": [
    {
     "data": {
      "image/png": "[encoded data removed]",
      "text/plain": [
       "<Figure size 432x288 with 1 Axes>"
      ]
     },
     "metadata": {
      "needs_background": "light"
     },
     "output_type": "display_data"
    }
   ],
   "source": [
    "t=np.linspace(-1.55,-1.45,100)\n",
    "plt.plot(t,eq(t))\n",
    "plt.axhline(0, color='black')\n",
    "plt.grid()\n"
   ]
  },
  {
   "cell_type": "code",
   "execution_count": null,
   "id": "3Ij6Dt78M6M0",
   "metadata": {
    "colab": {
     "base_uri": "https://localhost:8080/",
     "height": 265
    },
    "id": "3Ij6Dt78M6M0",
    "outputId": "f60f94f7-8403-4461-fe0b-f3c862d64f84"
   },
   "outputs": [
    {
     "data": {
      "image/png": "[encoded data removed]",
      "text/plain": [
       "<Figure size 432x288 with 1 Axes>"
      ]
     },
     "metadata": {
      "needs_background": "light"
     },
     "output_type": "display_data"
    }
   ],
   "source": [
    "t=np.linspace(-0.75,-0.65,100)\n",
    "plt.plot(t,eq(t))\n",
    "plt.axhline(0, color='black')\n",
    "plt.grid()\n"
   ]
  },
  {
   "cell_type": "code",
   "execution_count": null,
   "id": "3LGZl_FrM6nD",
   "metadata": {
    "colab": {
     "base_uri": "https://localhost:8080/",
     "height": 267
    },
    "id": "3LGZl_FrM6nD",
    "outputId": "56e4fbc5-be62-4d59-dd5f-dbfda7d678eb"
   },
   "outputs": [
    {
     "data": {
      "image/png": "[encoded data removed]",
      "text/plain": [
       "<Figure size 432x288 with 1 Axes>"
      ]
     },
     "metadata": {
      "needs_background": "light"
     },
     "output_type": "display_data"
    }
   ],
   "source": [
    "t=np.linspace(-0.65,-0.55,100)\n",
    "plt.plot(t,eq(t))\n",
    "plt.axhline(0, color='black')\n",
    "plt.grid()\n"
   ]
  },
  {
   "cell_type": "code",
   "execution_count": null,
   "id": "FjC1vqBeM9zF",
   "metadata": {
    "colab": {
     "base_uri": "https://localhost:8080/",
     "height": 265
    },
    "id": "FjC1vqBeM9zF",
    "outputId": "992b7846-47ac-441f-b05c-3d263449c34f"
   },
   "outputs": [
    {
     "data": {
      "image/png": "[encoded data removed]",
      "text/plain": [
       "<Figure size 432x288 with 1 Axes>"
      ]
     },
     "metadata": {
      "needs_background": "light"
     },
     "output_type": "display_data"
    }
   ],
   "source": [
    "t=np.linspace(1.15,1.25,100)\n",
    "plt.plot(t,eq(t))\n",
    "plt.axhline(0, color='black')\n",
    "plt.grid()\n"
   ]
  },
  {
   "cell_type": "code",
   "execution_count": null,
   "id": "yF32BnK5M-LH",
   "metadata": {
    "colab": {
     "base_uri": "https://localhost:8080/",
     "height": 265
    },
    "id": "yF32BnK5M-LH",
    "outputId": "c5118805-a132-48ed-9924-698b8a55d349"
   },
   "outputs": [
    {
     "data": {
      "image/png": "[encoded data removed]",
      "text/plain": [
       "<Figure size 432x288 with 1 Axes>"
      ]
     },
     "metadata": {
      "needs_background": "light"
     },
     "output_type": "display_data"
    }
   ],
   "source": [
    "t=np.linspace(1.35,1.45,100)\n",
    "plt.plot(t,eq(t))\n",
    "plt.axhline(0, color='black')\n",
    "plt.grid()\n"
   ]
  },
  {
   "cell_type": "markdown",
   "id": "VUh4MIpthbXR",
   "metadata": {
    "id": "VUh4MIpthbXR"
   },
   "source": [
    "# Пошук коренів на заданому проміжку"
   ]
  },
  {
   "cell_type": "code",
   "execution_count": 10,
   "id": "576bae07",
   "metadata": {
    "id": "576bae07"
   },
   "outputs": [],
   "source": [
    "#returns root from the interval [a;b]\n",
    "def bisection_method(a,b):\n",
    "  eps = 0.00001\n",
    "  i = 0\n",
    "  while True:\n",
    "    i = i+1\n",
    "    c = (a+b) * 0.5\n",
    "    res = eq(c)\n",
    "    if eq(a)/abs(eq(a))*res < 0: b = c\n",
    "    elif eq(b)/abs(eq(b))*res < 0:a = c\n",
    "    else: return c\n",
    "    print('Iteration: ', i)\n",
    "    print('a = {0:.6f},b = {1:.6f} : eq(a)= {2:.6f}, eq(b)= {3:.6f}'.format(a, b, eq(a),eq(b)))\n",
    "    if abs(b-a)<eps and abs(res)<eps:return c"
   ]
  },
  {
   "cell_type": "code",
   "execution_count": 9,
   "id": "131770c0",
   "metadata": {
    "colab": {
     "base_uri": "https://localhost:8080/"
    },
    "id": "131770c0",
    "outputId": "18524dae-2d7f-4b3e-a3da-0b8f4fdbaf3d"
   },
   "outputs": [
    {
     "name": "stdout",
     "output_type": "stream",
     "text": [
      "Interation:  1\n",
      "a = -2.100000,b = -2.050000 : eq(a)= -64.201876, eq(b)= 174.250580\n",
      "Interation:  2\n",
      "a = -2.100000,b = -2.075000 : eq(a)= -64.201876, eq(b)= 68.063757\n",
      "Interation:  3\n",
      "a = -2.100000,b = -2.087500 : eq(a)= -64.201876, eq(b)= 5.384675\n",
      "Interation:  4\n",
      "a = -2.093750,b = -2.087500 : eq(a)= -28.520125, eq(b)= 5.384675\n",
      "Interation:  5\n",
      "a = -2.090625,b = -2.087500 : eq(a)= -11.348773, eq(b)= 5.384675\n",
      "Interation:  6\n",
      "a = -2.089062,b = -2.087500 : eq(a)= -2.927704, eq(b)= 5.384675\n",
      "Interation:  7\n",
      "a = -2.089062,b = -2.088281 : eq(a)= -2.927704, eq(b)= 1.242023\n",
      "Interation:  8\n",
      "a = -2.088672,b = -2.088281 : eq(a)= -0.839450, eq(b)= 1.242023\n",
      "Interation:  9\n",
      "a = -2.088672,b = -2.088477 : eq(a)= -0.839450, eq(b)= 0.202134\n",
      "Interation:  10\n",
      "a = -2.088574,b = -2.088477 : eq(a)= -0.318446, eq(b)= 0.202134\n",
      "Interation:  11\n",
      "a = -2.088525,b = -2.088477 : eq(a)= -0.058103, eq(b)= 0.202134\n",
      "Interation:  12\n",
      "a = -2.088525,b = -2.088501 : eq(a)= -0.058103, eq(b)= 0.072028\n",
      "Interation:  13\n",
      "a = -2.088525,b = -2.088513 : eq(a)= -0.058103, eq(b)= 0.006966\n",
      "Interation:  14\n",
      "a = -2.088519,b = -2.088513 : eq(a)= -0.025568, eq(b)= 0.006966\n",
      "Interation:  15\n",
      "a = -2.088516,b = -2.088513 : eq(a)= -0.009301, eq(b)= 0.006966\n",
      "Interation:  16\n",
      "a = -2.088515,b = -2.088513 : eq(a)= -0.001168, eq(b)= 0.006966\n",
      "Interation:  17\n",
      "a = -2.088515,b = -2.088514 : eq(a)= -0.001168, eq(b)= 0.002899\n",
      "Interation:  18\n",
      "a = -2.088515,b = -2.088514 : eq(a)= -0.001168, eq(b)= 0.000866\n",
      "Interation:  19\n",
      "a = -2.088515,b = -2.088514 : eq(a)= -0.000151, eq(b)= 0.000866\n",
      "Interation:  20\n",
      "a = -2.088515,b = -2.088514 : eq(a)= -0.000151, eq(b)= 0.000357\n",
      "Interation:  21\n",
      "a = -2.088515,b = -2.088514 : eq(a)= -0.000151, eq(b)= 0.000103\n",
      "Interation:  22\n",
      "a = -2.088514,b = -2.088514 : eq(a)= -0.000024, eq(b)= 0.000103\n",
      "Interation:  23\n",
      "a = -2.088514,b = -2.088514 : eq(a)= -0.000024, eq(b)= 0.000040\n",
      "Interation:  24\n",
      "a = -2.088514,b = -2.088514 : eq(a)= -0.000024, eq(b)= 0.000008\n",
      "Found! Here is the root: -2.088514\n"
     ]
    }
   ],
   "source": [
    "print('Found! Here is the root: {0:.6f}'.format(bisection_method(-2.15,-2.05)))"
   ]
  },
  {
   "cell_type": "code",
   "execution_count": 34,
   "id": "ZeIdkN9mixvr",
   "metadata": {
    "id": "ZeIdkN9mixvr"
   },
   "outputs": [],
   "source": [
    "# 1st derivative\n",
    "dx = lambda x : 1050*x**6 + 1494*x**5  - 3305*x**4 - 3620*x**3 + 2655*x**2 + 1834*x - 290"
   ]
  },
  {
   "cell_type": "code",
   "execution_count": 35,
   "id": "Mx-tlDr2ix5H",
   "metadata": {
    "id": "Mx-tlDr2ix5H"
   },
   "outputs": [],
   "source": [
    "#2nd derivative\n",
    "ddx = lambda x : 6300*x**5 + 7470*x**4  - 13220*x**3 - 10860*x**2 + 5310*x + 1834"
   ]
  },
  {
   "cell_type": "code",
   "execution_count": 28,
   "id": "rcs0UiUykYz5",
   "metadata": {
    "colab": {
     "base_uri": "https://localhost:8080/"
    },
    "id": "rcs0UiUykYz5",
    "outputId": "aa3e53c3-5aa1-4cd2-9ed5-65a3c72bb640"
   },
   "outputs": [
    {
     "name": "stdout",
     "output_type": "stream",
     "text": [
      "     7       6       5       4       3       2\n",
      "150 x + 249 x - 661 x - 905 x + 885 x + 917 x - 290 x - 256\n",
      "      6        5        4        3        2\n",
      "1050 x + 1494 x - 3305 x - 3620 x + 2655 x + 1834 x - 290\n",
      "      5        4             3             2\n",
      "6300 x + 7470 x - 1.322e+04 x - 1.086e+04 x + 5310 x + 1834\n",
      "[  6300   7470 -13220 -10860   5310   1834]\n"
     ]
    }
   ],
   "source": [
    "#alternative way to find derivatives\n",
    "p = np.poly1d([150, 249, -661, -905, 885, 917, -290, -256])\n",
    "print(np.poly1d(p))\n",
    "print(np.poly1d(p).deriv())\n",
    "print(np.poly1d(p).deriv().deriv())\n",
    "print(np.poly1d(p).deriv().deriv().c)"
   ]
  },
  {
   "cell_type": "code",
   "execution_count": 86,
   "id": "kOMXQ-A3h5ex",
   "metadata": {
    "id": "kOMXQ-A3h5ex"
   },
   "outputs": [],
   "source": [
    "#returns root from the interval [a;b]\n",
    "def chord_method(a, b):\n",
    "  eps = 0.00001\n",
    "  i = 0\n",
    "  if (ddx(a+b)/2)*eq(a)>0: \n",
    "    n=a\n",
    "    eqn=eq(a)\n",
    "    x0=b\n",
    "  elif (ddx(a+b)/2)*eq(b)>0: \n",
    "    n=b\n",
    "    eqn=eq(b)\n",
    "    x0=a\n",
    "  while True:\n",
    "    i=i+1\n",
    "    x=x0-(eq(x0)/(eq(x0)-eqn))*(x0-n)\n",
    "    print('Iteration: ', i)\n",
    "    print('x_0 = {0:.6f},x = {1:.6f} : eq(x_0)= {2:.6f}, eq(x)= {3:.6f}'.format(x0, x, eq(x0),eq(x)))\n",
    "    if(abs(x-x0)<eps and abs(eq(x))<eps): break\n",
    "    else:x0=x\n",
    "  return x\n"
   ]
  },
  {
   "cell_type": "code",
   "execution_count": 87,
   "id": "JL8RdImurfSC",
   "metadata": {
    "colab": {
     "base_uri": "https://localhost:8080/"
    },
    "id": "JL8RdImurfSC",
    "outputId": "67f0cb9c-ed7b-45f6-f5bc-61d0a1345ea9"
   },
   "outputs": [
    {
     "name": "stdout",
     "output_type": "stream",
     "text": [
      "Iteration:  1\n",
      "x_0 = -2.050000,x = -2.079324 : eq(x_0)= 174.250580, eq(x)= 47.140190\n",
      "Iteration:  2\n",
      "x_0 = -2.079324,x = -2.086456 : eq(x_0)= 47.140190, eq(x)= 10.878184\n",
      "Iteration:  3\n",
      "x_0 = -2.086456,x = -2.088060 : eq(x_0)= 10.878184, eq(x)= 2.415884\n",
      "Iteration:  4\n",
      "x_0 = -2.088060,x = -2.088415 : eq(x_0)= 2.415884, eq(x)= 0.531937\n",
      "Iteration:  5\n",
      "x_0 = -2.088415,x = -2.088493 : eq(x_0)= 0.531937, eq(x)= 0.116901\n",
      "Iteration:  6\n",
      "x_0 = -2.088493,x = -2.088510 : eq(x_0)= 0.116901, eq(x)= 0.025680\n",
      "Iteration:  7\n",
      "x_0 = -2.088510,x = -2.088513 : eq(x_0)= 0.025680, eq(x)= 0.005641\n",
      "Iteration:  8\n",
      "x_0 = -2.088513,x = -2.088514 : eq(x_0)= 0.005641, eq(x)= 0.001239\n",
      "Iteration:  9\n",
      "x_0 = -2.088514,x = -2.088514 : eq(x_0)= 0.001239, eq(x)= 0.000272\n",
      "Iteration:  10\n",
      "x_0 = -2.088514,x = -2.088514 : eq(x_0)= 0.000272, eq(x)= 0.000060\n",
      "Iteration:  11\n",
      "x_0 = -2.088514,x = -2.088514 : eq(x_0)= 0.000060, eq(x)= 0.000013\n",
      "Iteration:  12\n",
      "x_0 = -2.088514,x = -2.088514 : eq(x_0)= 0.000013, eq(x)= 0.000003\n",
      "Found! Here is the root: -2.088514\n"
     ]
    }
   ],
   "source": [
    "print('Found! Here is the root: {0:.6f}'.format(chord_method(-2.15,-2.05)))"
   ]
  },
  {
   "cell_type": "code",
   "execution_count": 95,
   "id": "0e1Ch9sMfeKm",
   "metadata": {
    "id": "0e1Ch9sMfeKm"
   },
   "outputs": [],
   "source": [
    "#returns root from the interval [a;b]\n",
    "def newtons_method(a, b):\n",
    "  eps = 0.00001\n",
    "  i = 0\n",
    "  x0=float()\n",
    "  if ddx(a)*eq(a)>0:x0=a\n",
    "  elif ddx(b)*eq(b)>0:x0=b\n",
    "  while True:\n",
    "    i=i+1\n",
    "    x=x0-eq(x0)/dx(x0)\n",
    "    print('Iteration: ', i)\n",
    "    print('x = {0:.6f}, eq(x) = {1:.6f}'.format(x,eq(x)))\n",
    "    if(abs(x-x0)<eps and abs(eq(x))<eps): break\n",
    "    else:x0=x\n",
    "  return x\n"
   ]
  },
  {
   "cell_type": "code",
   "execution_count": 96,
   "id": "4l7xhxCUhNpw",
   "metadata": {
    "colab": {
     "base_uri": "https://localhost:8080/"
    },
    "id": "4l7xhxCUhNpw",
    "outputId": "27cb0c7a-c51e-45fd-8ab8-2aa81d870d4d"
   },
   "outputs": [
    {
     "name": "stdout",
     "output_type": "stream",
     "text": [
      "Iteration:  1\n",
      "x = -2.100429, eq(x) = -66.714853\n",
      "Iteration:  2\n",
      "x = -2.089071, eq(x) = -2.972977\n",
      "Iteration:  3\n",
      "x = -2.088516, eq(x) = -0.006855\n",
      "Iteration:  4\n",
      "x = -2.088514, eq(x) = -0.000000\n",
      "Found! Here is the root: -2.088514\n"
     ]
    }
   ],
   "source": [
    "print('Found! Here is the root: {0:.6f}'.format(newtons_method(-2.15,-2.05)))"
   ]
  },
  {
   "cell_type": "markdown",
   "id": "uyUU6n6L2v3h",
   "metadata": {
    "id": "uyUU6n6L2v3h"
   },
   "source": [
    "(-2.15; -2.05), (-1.55; -1.45), (-0.75;-0.65), (-0.65;-0.55), (0.65;0.75), (1.15;1.25), (1.35;1.45)"
   ]
  },
  {
   "cell_type": "code",
   "execution_count": 100,
   "id": "I61m-rfv4p3i",
   "metadata": {
    "id": "I61m-rfv4p3i"
   },
   "outputs": [],
   "source": [
    "# This func counts all roots withing 3 methods\n",
    "def roots_from_intervals(intervals):\n",
    "  bisection_roots, chord_roots, newtons_roots  = [], [], []\n",
    "  for i, j in intervals:\n",
    "     bisection_roots.append(bisection_method(i, j))\n",
    "     chord_roots.append(chord_method(i, j))\n",
    "     newtons_roots.append(newtons_method(i, j))\n",
    "  return bisection_roots, chord_roots, newtons_roots"
   ]
  },
  {
   "cell_type": "code",
   "execution_count": 102,
   "id": "tiwOboeB6JeG",
   "metadata": {
    "colab": {
     "base_uri": "https://localhost:8080/"
    },
    "id": "tiwOboeB6JeG",
    "outputId": "5041fb04-59cf-4400-d5f7-aa7429eed4ce"
   },
   "outputs": [
    {
     "name": "stdout",
     "output_type": "stream",
     "text": [
      "Iteration:  1\n",
      "a = -2.100000,b = -2.050000 : eq(a)= -64.201876, eq(b)= 174.250580\n",
      "Iteration:  2\n",
      "a = -2.100000,b = -2.075000 : eq(a)= -64.201876, eq(b)= 68.063757\n",
      "Iteration:  3\n",
      "a = -2.100000,b = -2.087500 : eq(a)= -64.201876, eq(b)= 5.384675\n",
      "Iteration:  4\n",
      "a = -2.093750,b = -2.087500 : eq(a)= -28.520125, eq(b)= 5.384675\n",
      "Iteration:  5\n",
      "a = -2.090625,b = -2.087500 : eq(a)= -11.348773, eq(b)= 5.384675\n",
      "Iteration:  6\n",
      "a = -2.089062,b = -2.087500 : eq(a)= -2.927704, eq(b)= 5.384675\n",
      "Iteration:  7\n",
      "a = -2.089062,b = -2.088281 : eq(a)= -2.927704, eq(b)= 1.242023\n",
      "Iteration:  8\n",
      "a = -2.088672,b = -2.088281 : eq(a)= -0.839450, eq(b)= 1.242023\n",
      "Iteration:  9\n",
      "a = -2.088672,b = -2.088477 : eq(a)= -0.839450, eq(b)= 0.202134\n",
      "Iteration:  10\n",
      "a = -2.088574,b = -2.088477 : eq(a)= -0.318446, eq(b)= 0.202134\n",
      "Iteration:  11\n",
      "a = -2.088525,b = -2.088477 : eq(a)= -0.058103, eq(b)= 0.202134\n",
      "Iteration:  12\n",
      "a = -2.088525,b = -2.088501 : eq(a)= -0.058103, eq(b)= 0.072028\n",
      "Iteration:  13\n",
      "a = -2.088525,b = -2.088513 : eq(a)= -0.058103, eq(b)= 0.006966\n",
      "Iteration:  14\n",
      "a = -2.088519,b = -2.088513 : eq(a)= -0.025568, eq(b)= 0.006966\n",
      "Iteration:  15\n",
      "a = -2.088516,b = -2.088513 : eq(a)= -0.009301, eq(b)= 0.006966\n",
      "Iteration:  16\n",
      "a = -2.088515,b = -2.088513 : eq(a)= -0.001168, eq(b)= 0.006966\n",
      "Iteration:  17\n",
      "a = -2.088515,b = -2.088514 : eq(a)= -0.001168, eq(b)= 0.002899\n",
      "Iteration:  18\n",
      "a = -2.088515,b = -2.088514 : eq(a)= -0.001168, eq(b)= 0.000866\n",
      "Iteration:  19\n",
      "a = -2.088515,b = -2.088514 : eq(a)= -0.000151, eq(b)= 0.000866\n",
      "Iteration:  20\n",
      "a = -2.088515,b = -2.088514 : eq(a)= -0.000151, eq(b)= 0.000357\n",
      "Iteration:  21\n",
      "a = -2.088515,b = -2.088514 : eq(a)= -0.000151, eq(b)= 0.000103\n",
      "Iteration:  22\n",
      "a = -2.088514,b = -2.088514 : eq(a)= -0.000024, eq(b)= 0.000103\n",
      "Iteration:  23\n",
      "a = -2.088514,b = -2.088514 : eq(a)= -0.000024, eq(b)= 0.000040\n",
      "Iteration:  24\n",
      "a = -2.088514,b = -2.088514 : eq(a)= -0.000024, eq(b)= 0.000008\n",
      "Iteration:  1\n",
      "x_0 = -2.050000,x = -2.079324 : eq(x_0)= 174.250580, eq(x)= 47.140190\n",
      "Iteration:  2\n",
      "x_0 = -2.079324,x = -2.086456 : eq(x_0)= 47.140190, eq(x)= 10.878184\n",
      "Iteration:  3\n",
      "x_0 = -2.086456,x = -2.088060 : eq(x_0)= 10.878184, eq(x)= 2.415884\n",
      "Iteration:  4\n",
      "x_0 = -2.088060,x = -2.088415 : eq(x_0)= 2.415884, eq(x)= 0.531937\n",
      "Iteration:  5\n",
      "x_0 = -2.088415,x = -2.088493 : eq(x_0)= 0.531937, eq(x)= 0.116901\n",
      "Iteration:  6\n",
      "x_0 = -2.088493,x = -2.088510 : eq(x_0)= 0.116901, eq(x)= 0.025680\n",
      "Iteration:  7\n",
      "x_0 = -2.088510,x = -2.088513 : eq(x_0)= 0.025680, eq(x)= 0.005641\n",
      "Iteration:  8\n",
      "x_0 = -2.088513,x = -2.088514 : eq(x_0)= 0.005641, eq(x)= 0.001239\n",
      "Iteration:  9\n",
      "x_0 = -2.088514,x = -2.088514 : eq(x_0)= 0.001239, eq(x)= 0.000272\n",
      "Iteration:  10\n",
      "x_0 = -2.088514,x = -2.088514 : eq(x_0)= 0.000272, eq(x)= 0.000060\n",
      "Iteration:  11\n",
      "x_0 = -2.088514,x = -2.088514 : eq(x_0)= 0.000060, eq(x)= 0.000013\n",
      "Iteration:  12\n",
      "x_0 = -2.088514,x = -2.088514 : eq(x_0)= 0.000013, eq(x)= 0.000003\n",
      "Iteration:  1\n",
      "x = -2.100429, eq(x) = -66.714853\n",
      "Iteration:  2\n",
      "x = -2.089071, eq(x) = -2.972977\n",
      "Iteration:  3\n",
      "x = -2.088516, eq(x) = -0.006855\n",
      "Iteration:  4\n",
      "x = -2.088514, eq(x) = -0.000000\n",
      "Iteration:  1\n",
      "a = -1.550000,b = -1.500000 : eq(a)= 19.816015, eq(b)= -33.343750\n",
      "Iteration:  2\n",
      "a = -1.550000,b = -1.525000 : eq(a)= 19.816015, eq(b)= -7.950661\n",
      "Iteration:  3\n",
      "a = -1.537500,b = -1.525000 : eq(a)= 5.646771, eq(b)= -7.950661\n",
      "Iteration:  4\n",
      "a = -1.537500,b = -1.531250 : eq(a)= 5.646771, eq(b)= -1.224906\n",
      "Iteration:  5\n",
      "a = -1.534375,b = -1.531250 : eq(a)= 2.192869, eq(b)= -1.224906\n",
      "Iteration:  6\n",
      "a = -1.532812,b = -1.531250 : eq(a)= 0.479443, eq(b)= -1.224906\n",
      "Iteration:  7\n",
      "a = -1.532812,b = -1.532031 : eq(a)= 0.479443, eq(b)= -0.373868\n",
      "Iteration:  8\n",
      "a = -1.532422,b = -1.532031 : eq(a)= 0.052503, eq(b)= -0.373868\n",
      "Iteration:  9\n",
      "a = -1.532422,b = -1.532227 : eq(a)= 0.052503, eq(b)= -0.160754\n",
      "Iteration:  10\n",
      "a = -1.532422,b = -1.532324 : eq(a)= 0.052503, eq(b)= -0.054143\n",
      "Iteration:  11\n",
      "a = -1.532422,b = -1.532373 : eq(a)= 0.052503, eq(b)= -0.000824\n",
      "Iteration:  12\n",
      "a = -1.532397,b = -1.532373 : eq(a)= 0.025839, eq(b)= -0.000824\n",
      "Iteration:  13\n",
      "a = -1.532385,b = -1.532373 : eq(a)= 0.012507, eq(b)= -0.000824\n",
      "Iteration:  14\n",
      "a = -1.532379,b = -1.532373 : eq(a)= 0.005841, eq(b)= -0.000824\n",
      "Iteration:  15\n",
      "a = -1.532376,b = -1.532373 : eq(a)= 0.002509, eq(b)= -0.000824\n",
      "Iteration:  16\n",
      "a = -1.532375,b = -1.532373 : eq(a)= 0.000842, eq(b)= -0.000824\n",
      "Iteration:  17\n",
      "a = -1.532374,b = -1.532373 : eq(a)= 0.000009, eq(b)= -0.000824\n",
      "Iteration:  1\n",
      "x_0 = -1.550000,x = -1.529426 : eq(x_0)= 19.816015, eq(x)= -3.202914\n",
      "Iteration:  2\n",
      "x_0 = -1.529426,x = -1.532897 : eq(x_0)= -3.202914, eq(x)= 0.571625\n",
      "Iteration:  3\n",
      "x_0 = -1.532897,x = -1.532282 : eq(x_0)= 0.571625, eq(x)= -0.100299\n",
      "Iteration:  4\n",
      "x_0 = -1.532282,x = -1.532390 : eq(x_0)= -0.100299, eq(x)= 0.017652\n",
      "Iteration:  5\n",
      "x_0 = -1.532390,x = -1.532371 : eq(x_0)= 0.017652, eq(x)= -0.003105\n",
      "Iteration:  6\n",
      "x_0 = -1.532371,x = -1.532374 : eq(x_0)= -0.003105, eq(x)= 0.000546\n",
      "Iteration:  7\n",
      "x_0 = -1.532374,x = -1.532374 : eq(x_0)= 0.000546, eq(x)= -0.000096\n",
      "Iteration:  8\n",
      "x_0 = -1.532374,x = -1.532374 : eq(x_0)= -0.000096, eq(x)= 0.000017\n",
      "Iteration:  9\n",
      "x_0 = -1.532374,x = -1.532374 : eq(x_0)= 0.000017, eq(x)= -0.000003\n",
      "Iteration:  1\n",
      "x = -1.532854, eq(x) = 0.525175\n",
      "Iteration:  2\n",
      "x = -1.532374, eq(x) = 0.000429\n",
      "Iteration:  3\n",
      "x = -1.532374, eq(x) = 0.000000\n",
      "Iteration:  1\n",
      "a = -0.750000,b = -0.700000 : eq(a)= -1.242065, eq(b)= 3.520226\n",
      "Iteration:  2\n",
      "a = -0.750000,b = -0.725000 : eq(a)= -1.242065, eq(b)= 1.727349\n",
      "Iteration:  3\n",
      "a = -0.750000,b = -0.737500 : eq(a)= -1.242065, eq(b)= 0.387187\n",
      "Iteration:  4\n",
      "a = -0.743750,b = -0.737500 : eq(a)= -0.391665, eq(b)= 0.387187\n",
      "Iteration:  5\n",
      "a = -0.743750,b = -0.740625 : eq(a)= -0.391665, eq(b)= 0.006752\n",
      "Iteration:  6\n",
      "a = -0.742188,b = -0.740625 : eq(a)= -0.190214, eq(b)= 0.006752\n",
      "Iteration:  7\n",
      "a = -0.741406,b = -0.740625 : eq(a)= -0.091170, eq(b)= 0.006752\n",
      "Iteration:  8\n",
      "a = -0.741016,b = -0.740625 : eq(a)= -0.042068, eq(b)= 0.006752\n",
      "Iteration:  9\n",
      "a = -0.740820,b = -0.740625 : eq(a)= -0.017623, eq(b)= 0.006752\n",
      "Iteration:  10\n",
      "a = -0.740723,b = -0.740625 : eq(a)= -0.005427, eq(b)= 0.006752\n",
      "Iteration:  11\n",
      "a = -0.740723,b = -0.740674 : eq(a)= -0.005427, eq(b)= 0.000665\n",
      "Iteration:  12\n",
      "a = -0.740698,b = -0.740674 : eq(a)= -0.002380, eq(b)= 0.000665\n",
      "Iteration:  13\n",
      "a = -0.740686,b = -0.740674 : eq(a)= -0.000858, eq(b)= 0.000665\n",
      "Iteration:  14\n",
      "a = -0.740680,b = -0.740674 : eq(a)= -0.000096, eq(b)= 0.000665\n",
      "Iteration:  15\n",
      "a = -0.740680,b = -0.740677 : eq(a)= -0.000096, eq(b)= 0.000284\n",
      "Iteration:  16\n",
      "a = -0.740680,b = -0.740678 : eq(a)= -0.000096, eq(b)= 0.000094\n",
      "Iteration:  17\n",
      "a = -0.740679,b = -0.740678 : eq(a)= -0.000001, eq(b)= 0.000094\n",
      "Iteration:  1\n",
      "x_0 = -0.750000,x = -0.723598 : eq(x_0)= -1.242065, eq(x)= 1.859382\n",
      "Iteration:  2\n",
      "x_0 = -0.723598,x = -0.808967 : eq(x_0)= 1.859382, eq(x)= -12.617827\n",
      "Iteration:  3\n",
      "x_0 = -0.808967,x = -0.684229 : eq(x_0)= -12.617827, eq(x)= 4.031103\n",
      "Iteration:  4\n",
      "x_0 = -0.684229,x = -0.441611 : eq(x_0)= 4.031103, eq(x)= -47.280352\n",
      "Iteration:  5\n",
      "x_0 = -0.441611,x = -0.635781 : eq(x_0)= -47.280352, eq(x)= 2.547240\n",
      "Iteration:  6\n",
      "x_0 = -0.635781,x = -0.596203 : eq(x_0)= 2.547240, eq(x)= -2.086942\n",
      "Iteration:  7\n",
      "x_0 = -0.596203,x = -0.616434 : eq(x_0)= -2.086942, eq(x)= 0.663609\n",
      "Iteration:  8\n",
      "x_0 = -0.616434,x = -0.608476 : eq(x_0)= 0.663609, eq(x)= -0.323710\n",
      "Iteration:  9\n",
      "x_0 = -0.608476,x = -0.612026 : eq(x_0)= -0.323710, eq(x)= 0.131959\n",
      "Iteration:  10\n",
      "x_0 = -0.612026,x = -0.610521 : eq(x_0)= 0.131959, eq(x)= -0.058161\n",
      "Iteration:  11\n",
      "x_0 = -0.610521,x = -0.611174 : eq(x_0)= -0.058161, eq(x)= 0.024791\n",
      "Iteration:  12\n",
      "x_0 = -0.611174,x = -0.610894 : eq(x_0)= 0.024791, eq(x)= -0.010721\n",
      "Iteration:  13\n",
      "x_0 = -0.610894,x = -0.611014 : eq(x_0)= -0.010721, eq(x)= 0.004607\n",
      "Iteration:  14\n",
      "x_0 = -0.611014,x = -0.610962 : eq(x_0)= 0.004607, eq(x)= -0.001985\n",
      "Iteration:  15\n",
      "x_0 = -0.610962,x = -0.610985 : eq(x_0)= -0.001985, eq(x)= 0.000855\n",
      "Iteration:  16\n",
      "x_0 = -0.610985,x = -0.610975 : eq(x_0)= 0.000855, eq(x)= -0.000368\n",
      "Iteration:  17\n",
      "x_0 = -0.610975,x = -0.610979 : eq(x_0)= -0.000368, eq(x)= 0.000158\n",
      "Iteration:  18\n",
      "x_0 = -0.610979,x = -0.610977 : eq(x_0)= 0.000158, eq(x)= -0.000068\n",
      "Iteration:  19\n",
      "x_0 = -0.610977,x = -0.610978 : eq(x_0)= -0.000068, eq(x)= 0.000029\n",
      "Iteration:  20\n",
      "x_0 = -0.610978,x = -0.610978 : eq(x_0)= 0.000029, eq(x)= -0.000013\n",
      "Iteration:  21\n",
      "x_0 = -0.610978,x = -0.610978 : eq(x_0)= -0.000013, eq(x)= 0.000005\n",
      "Iteration:  1\n",
      "x = -0.741237, eq(x) = -0.069914\n",
      "Iteration:  2\n",
      "x = -0.740681, eq(x) = -0.000284\n",
      "Iteration:  3\n",
      "x = -0.740679, eq(x) = -0.000000\n",
      "Iteration:  1\n",
      "a = -0.650000,b = -0.600000 : eq(a)= 3.462391, eq(b)= -1.510336\n",
      "Iteration:  2\n",
      "a = -0.625000,b = -0.600000 : eq(a)= 1.588124, eq(b)= -1.510336\n",
      "Iteration:  3\n",
      "a = -0.612500,b = -0.600000 : eq(a)= 0.190939, eq(b)= -1.510336\n",
      "Iteration:  4\n",
      "a = -0.612500,b = -0.606250 : eq(a)= 0.190939, eq(b)= -0.621852\n",
      "Iteration:  5\n",
      "a = -0.612500,b = -0.609375 : eq(a)= 0.190939, eq(b)= -0.205973\n",
      "Iteration:  6\n",
      "a = -0.612500,b = -0.610938 : eq(a)= 0.190939, eq(b)= -0.005143\n",
      "Iteration:  7\n",
      "a = -0.611719,b = -0.610938 : eq(a)= 0.093492, eq(b)= -0.005143\n",
      "Iteration:  8\n",
      "a = -0.611328,b = -0.610938 : eq(a)= 0.044323, eq(b)= -0.005143\n",
      "Iteration:  9\n",
      "a = -0.611133,b = -0.610938 : eq(a)= 0.019627, eq(b)= -0.005143\n",
      "Iteration:  10\n",
      "a = -0.611035,b = -0.610938 : eq(a)= 0.007251, eq(b)= -0.005143\n",
      "Iteration:  11\n",
      "a = -0.610986,b = -0.610938 : eq(a)= 0.001056, eq(b)= -0.005143\n",
      "Iteration:  12\n",
      "a = -0.610986,b = -0.610962 : eq(a)= 0.001056, eq(b)= -0.002043\n",
      "Iteration:  13\n",
      "a = -0.610986,b = -0.610974 : eq(a)= 0.001056, eq(b)= -0.000493\n",
      "Iteration:  14\n",
      "a = -0.610980,b = -0.610974 : eq(a)= 0.000281, eq(b)= -0.000493\n",
      "Iteration:  15\n",
      "a = -0.610980,b = -0.610977 : eq(a)= 0.000281, eq(b)= -0.000106\n",
      "Iteration:  16\n",
      "a = -0.610979,b = -0.610977 : eq(a)= 0.000088, eq(b)= -0.000106\n",
      "Iteration:  17\n",
      "a = -0.610979,b = -0.610978 : eq(a)= 0.000088, eq(b)= -0.000009\n",
      "Iteration:  1\n",
      "x_0 = -0.550000,x = -0.626525 : eq(x_0)= -11.286607, eq(x)= 1.737614\n",
      "Iteration:  2\n",
      "x_0 = -0.626525,x = -0.602874 : eq(x_0)= 1.737614, eq(x)= -1.092340\n",
      "Iteration:  3\n",
      "x_0 = -0.602874,x = -0.614176 : eq(x_0)= -1.092340, eq(x)= 0.396021\n",
      "Iteration:  4\n",
      "x_0 = -0.614176,x = -0.609550 : eq(x_0)= 0.396021, eq(x)= -0.183282\n",
      "Iteration:  5\n",
      "x_0 = -0.609550,x = -0.611583 : eq(x_0)= -0.183282, eq(x)= 0.076475\n",
      "Iteration:  6\n",
      "x_0 = -0.611583,x = -0.610716 : eq(x_0)= 0.076475, eq(x)= -0.033374\n",
      "Iteration:  7\n",
      "x_0 = -0.610716,x = -0.611091 : eq(x_0)= -0.033374, eq(x)= 0.014287\n",
      "Iteration:  8\n",
      "x_0 = -0.611091,x = -0.610929 : eq(x_0)= 0.014287, eq(x)= -0.006167\n",
      "Iteration:  9\n",
      "x_0 = -0.610929,x = -0.610999 : eq(x_0)= -0.006167, eq(x)= 0.002652\n",
      "Iteration:  10\n",
      "x_0 = -0.610999,x = -0.610969 : eq(x_0)= 0.002652, eq(x)= -0.001143\n",
      "Iteration:  11\n",
      "x_0 = -0.610969,x = -0.610982 : eq(x_0)= -0.001143, eq(x)= 0.000492\n",
      "Iteration:  12\n",
      "x_0 = -0.610982,x = -0.610976 : eq(x_0)= 0.000492, eq(x)= -0.000212\n",
      "Iteration:  13\n",
      "x_0 = -0.610976,x = -0.610979 : eq(x_0)= -0.000212, eq(x)= 0.000091\n",
      "Iteration:  14\n",
      "x_0 = -0.610979,x = -0.610978 : eq(x_0)= 0.000091, eq(x)= -0.000039\n",
      "Iteration:  15\n",
      "x_0 = -0.610978,x = -0.610978 : eq(x_0)= -0.000039, eq(x)= 0.000017\n",
      "Iteration:  16\n",
      "x_0 = -0.610978,x = -0.610978 : eq(x_0)= 0.000017, eq(x)= -0.000007\n",
      "Iteration:  1\n",
      "x = -0.596670, eq(x) = -2.014513\n",
      "Iteration:  2\n",
      "x = -0.609700, eq(x) = -0.163794\n",
      "Iteration:  3\n",
      "x = -0.610966, eq(x) = -0.001556\n",
      "Iteration:  4\n",
      "x = -0.610978, eq(x) = -0.000000\n",
      "Iteration:  5\n",
      "x = -0.610978, eq(x) = 0.000000\n",
      "Iteration:  1\n",
      "a = 0.650000,b = 0.700000 : eq(a)= -26.135096, eq(b)= 7.147976\n",
      "Iteration:  2\n",
      "a = 0.675000,b = 0.700000 : eq(a)= -9.130479, eq(b)= 7.147976\n",
      "Iteration:  3\n",
      "a = 0.687500,b = 0.700000 : eq(a)= -0.889085, eq(b)= 7.147976\n",
      "Iteration:  4\n",
      "a = 0.687500,b = 0.693750 : eq(a)= -0.889085, eq(b)= 3.156405\n",
      "Iteration:  5\n",
      "a = 0.687500,b = 0.690625 : eq(a)= -0.889085, eq(b)= 1.140223\n",
      "Iteration:  6\n",
      "a = 0.687500,b = 0.689063 : eq(a)= -0.889085, eq(b)= 0.127188\n",
      "Iteration:  7\n",
      "a = 0.688281,b = 0.689063 : eq(a)= -0.380546, eq(b)= 0.127188\n",
      "Iteration:  8\n",
      "a = 0.688672,b = 0.689063 : eq(a)= -0.126578, eq(b)= 0.127188\n",
      "Iteration:  9\n",
      "a = 0.688672,b = 0.688867 : eq(a)= -0.126578, eq(b)= 0.000330\n",
      "Iteration:  10\n",
      "a = 0.688770,b = 0.688867 : eq(a)= -0.063118, eq(b)= 0.000330\n",
      "Iteration:  11\n",
      "a = 0.688818,b = 0.688867 : eq(a)= -0.031392, eq(b)= 0.000330\n",
      "Iteration:  12\n",
      "a = 0.688843,b = 0.688867 : eq(a)= -0.015531, eq(b)= 0.000330\n",
      "Iteration:  13\n",
      "a = 0.688855,b = 0.688867 : eq(a)= -0.007600, eq(b)= 0.000330\n",
      "Iteration:  14\n",
      "a = 0.688861,b = 0.688867 : eq(a)= -0.003635, eq(b)= 0.000330\n",
      "Iteration:  15\n",
      "a = 0.688864,b = 0.688867 : eq(a)= -0.001653, eq(b)= 0.000330\n",
      "Iteration:  16\n",
      "a = 0.688866,b = 0.688867 : eq(a)= -0.000661, eq(b)= 0.000330\n",
      "Iteration:  17\n",
      "a = 0.688866,b = 0.688867 : eq(a)= -0.000166, eq(b)= 0.000330\n",
      "Iteration:  18\n",
      "a = 0.688866,b = 0.688867 : eq(a)= -0.000166, eq(b)= 0.000082\n",
      "Iteration:  19\n",
      "a = 0.688867,b = 0.688867 : eq(a)= -0.000042, eq(b)= 0.000082\n",
      "Iteration:  20\n",
      "a = 0.688867,b = 0.688867 : eq(a)= -0.000042, eq(b)= 0.000020\n",
      "Iteration:  21\n",
      "a = 0.688867,b = 0.688867 : eq(a)= -0.000011, eq(b)= 0.000020\n",
      "Iteration:  22\n",
      "a = 0.688867,b = 0.688867 : eq(a)= -0.000011, eq(b)= 0.000005\n",
      "Iteration:  1\n",
      "x_0 = 0.650000,x = 0.691524 : eq(x_0)= -26.135096, eq(x)= 1.721422\n",
      "Iteration:  2\n",
      "x_0 = 0.691524,x = 0.688655 : eq(x_0)= 1.721422, eq(x)= -0.137861\n",
      "Iteration:  3\n",
      "x_0 = 0.688655,x = 0.688883 : eq(x_0)= -0.137861, eq(x)= 0.010888\n",
      "Iteration:  4\n",
      "x_0 = 0.688883,x = 0.688865 : eq(x_0)= 0.010888, eq(x)= -0.000861\n",
      "Iteration:  5\n",
      "x_0 = 0.688865,x = 0.688867 : eq(x_0)= -0.000861, eq(x)= 0.000068\n",
      "Iteration:  6\n",
      "x_0 = 0.688867,x = 0.688867 : eq(x_0)= 0.000068, eq(x)= -0.000005\n",
      "Iteration:  1\n",
      "x = 0.687753, eq(x) = -0.724443\n",
      "Iteration:  2\n",
      "x = 0.688865, eq(x) = -0.000814\n",
      "Iteration:  3\n",
      "x = 0.688867, eq(x) = -0.000000\n",
      "Iteration:  1\n",
      "a = 1.200000,b = 1.250000 : eq(a)= 5.359616, eq(b)= -18.741089\n",
      "Iteration:  2\n",
      "a = 1.200000,b = 1.225000 : eq(a)= 5.359616, eq(b)= -7.301151\n",
      "Iteration:  3\n",
      "a = 1.200000,b = 1.212500 : eq(a)= 5.359616, eq(b)= -1.080105\n",
      "Iteration:  4\n",
      "a = 1.206250,b = 1.212500 : eq(a)= 2.117505, eq(b)= -1.080105\n",
      "Iteration:  5\n",
      "a = 1.209375,b = 1.212500 : eq(a)= 0.512516, eq(b)= -1.080105\n",
      "Iteration:  6\n",
      "a = 1.209375,b = 1.210938 : eq(a)= 0.512516, eq(b)= -0.285419\n",
      "Iteration:  7\n",
      "a = 1.210156,b = 1.210938 : eq(a)= 0.113152, eq(b)= -0.285419\n",
      "Iteration:  8\n",
      "a = 1.210156,b = 1.210547 : eq(a)= 0.113152, eq(b)= -0.086234\n",
      "Iteration:  9\n",
      "a = 1.210352,b = 1.210547 : eq(a)= 0.013434, eq(b)= -0.086234\n",
      "Iteration:  10\n",
      "a = 1.210352,b = 1.210449 : eq(a)= 0.013434, eq(b)= -0.036406\n",
      "Iteration:  11\n",
      "a = 1.210352,b = 1.210400 : eq(a)= 0.013434, eq(b)= -0.011488\n",
      "Iteration:  12\n",
      "a = 1.210376,b = 1.210400 : eq(a)= 0.000973, eq(b)= -0.011488\n",
      "Iteration:  13\n",
      "a = 1.210376,b = 1.210388 : eq(a)= 0.000973, eq(b)= -0.005258\n",
      "Iteration:  14\n",
      "a = 1.210376,b = 1.210382 : eq(a)= 0.000973, eq(b)= -0.002142\n",
      "Iteration:  15\n",
      "a = 1.210376,b = 1.210379 : eq(a)= 0.000973, eq(b)= -0.000585\n",
      "Iteration:  16\n",
      "a = 1.210378,b = 1.210379 : eq(a)= 0.000194, eq(b)= -0.000585\n",
      "Iteration:  17\n",
      "a = 1.210378,b = 1.210378 : eq(a)= 0.000194, eq(b)= -0.000195\n",
      "Iteration:  18\n",
      "a = 1.210378,b = 1.210378 : eq(a)= 0.000194, eq(b)= -0.000001\n",
      "Iteration:  1\n",
      "x_0 = 1.250000,x = 1.212922 : eq(x_0)= -18.741089, eq(x)= -1.294261\n",
      "Iteration:  2\n",
      "x_0 = 1.212922,x = 1.210462 : eq(x_0)= -1.294261, eq(x)= -0.042796\n",
      "Iteration:  3\n",
      "x_0 = 1.210462,x = 1.210380 : eq(x_0)= -0.042796, eq(x)= -0.001332\n",
      "Iteration:  4\n",
      "x_0 = 1.210380,x = 1.210378 : eq(x_0)= -0.001332, eq(x)= -0.000041\n",
      "Iteration:  5\n",
      "x_0 = 1.210378,x = 1.210378 : eq(x_0)= -0.000041, eq(x)= -0.000001\n",
      "Iteration:  1\n",
      "x = -0.882759, eq(x) = -34.267805\n",
      "Iteration:  2\n",
      "x = -0.781734, eq(x) = -6.633113\n",
      "Iteration:  3\n",
      "x = -0.748125, eq(x) = -0.979507\n",
      "Iteration:  4\n",
      "x = -0.741045, eq(x) = -0.045752\n",
      "Iteration:  5\n",
      "x = -0.740680, eq(x) = -0.000123\n",
      "Iteration:  6\n",
      "x = -0.740679, eq(x) = -0.000000\n",
      "Iteration:  1\n",
      "a = 1.400000,b = 1.450000 : eq(a)= -11.847616, eq(b)= 47.837617\n",
      "Iteration:  2\n",
      "a = 1.400000,b = 1.425000 : eq(a)= -11.847616, eq(b)= 12.702522\n",
      "Iteration:  3\n",
      "a = 1.412500,b = 1.425000 : eq(a)= -0.789295, eq(b)= 12.702522\n",
      "Iteration:  4\n",
      "a = 1.412500,b = 1.418750 : eq(a)= -0.789295, eq(b)= 5.639519\n",
      "Iteration:  5\n",
      "a = 1.412500,b = 1.415625 : eq(a)= -0.789295, eq(b)= 2.347476\n",
      "Iteration:  6\n",
      "a = 1.412500,b = 1.414062 : eq(a)= -0.789295, eq(b)= 0.759884\n",
      "Iteration:  7\n",
      "a = 1.413281,b = 1.414062 : eq(a)= -0.019482, eq(b)= 0.759884\n",
      "Iteration:  8\n",
      "a = 1.413281,b = 1.413672 : eq(a)= -0.019482, eq(b)= 0.369004\n",
      "Iteration:  9\n",
      "a = 1.413281,b = 1.413477 : eq(a)= -0.019482, eq(b)= 0.174462\n",
      "Iteration:  10\n",
      "a = 1.413281,b = 1.413379 : eq(a)= -0.019482, eq(b)= 0.077415\n",
      "Iteration:  11\n",
      "a = 1.413281,b = 1.413330 : eq(a)= -0.019482, eq(b)= 0.028948\n",
      "Iteration:  12\n",
      "a = 1.413281,b = 1.413306 : eq(a)= -0.019482, eq(b)= 0.004728\n",
      "Iteration:  13\n",
      "a = 1.413293,b = 1.413306 : eq(a)= -0.007378, eq(b)= 0.004728\n",
      "Iteration:  14\n",
      "a = 1.413300,b = 1.413306 : eq(a)= -0.001325, eq(b)= 0.004728\n",
      "Iteration:  15\n",
      "a = 1.413300,b = 1.413303 : eq(a)= -0.001325, eq(b)= 0.001701\n",
      "Iteration:  16\n",
      "a = 1.413300,b = 1.413301 : eq(a)= -0.001325, eq(b)= 0.000188\n",
      "Iteration:  17\n",
      "a = 1.413300,b = 1.413301 : eq(a)= -0.000569, eq(b)= 0.000188\n",
      "Iteration:  18\n",
      "a = 1.413301,b = 1.413301 : eq(a)= -0.000190, eq(b)= 0.000188\n",
      "Iteration:  19\n",
      "a = 1.413301,b = 1.413301 : eq(a)= -0.000001, eq(b)= 0.000188\n",
      "Iteration:  1\n",
      "x_0 = 1.350000,x = 1.392677 : eq(x_0)= -35.614402, eq(x)= -17.276608\n",
      "Iteration:  2\n",
      "x_0 = 1.392677,x = 1.407886 : eq(x_0)= -17.276608, eq(x)= -5.143614\n",
      "Iteration:  3\n",
      "x_0 = 1.407886,x = 1.411975 : eq(x_0)= -5.143614, eq(x)= -1.301661\n",
      "Iteration:  4\n",
      "x_0 = 1.411975,x = 1.412982 : eq(x_0)= -1.301661, eq(x)= -0.315617\n",
      "Iteration:  5\n",
      "x_0 = 1.412982,x = 1.413224 : eq(x_0)= -0.315617, eq(x)= -0.075731\n",
      "Iteration:  6\n",
      "x_0 = 1.413224,x = 1.413283 : eq(x_0)= -0.075731, eq(x)= -0.018126\n",
      "Iteration:  7\n",
      "x_0 = 1.413283,x = 1.413297 : eq(x_0)= -0.018126, eq(x)= -0.004336\n",
      "Iteration:  8\n",
      "x_0 = 1.413297,x = 1.413300 : eq(x_0)= -0.004336, eq(x)= -0.001037\n",
      "Iteration:  9\n",
      "x_0 = 1.413300,x = 1.413301 : eq(x_0)= -0.001037, eq(x)= -0.000248\n",
      "Iteration:  10\n",
      "x_0 = 1.413301,x = 1.413301 : eq(x_0)= -0.000248, eq(x)= -0.000059\n",
      "Iteration:  11\n",
      "x_0 = 1.413301,x = 1.413301 : eq(x_0)= -0.000059, eq(x)= -0.000014\n",
      "Iteration:  12\n",
      "x_0 = 1.413301,x = 1.413301 : eq(x_0)= -0.000014, eq(x)= -0.000003\n",
      "Iteration:  1\n",
      "x = 1.420841, eq(x) = 7.931144\n",
      "Iteration:  2\n",
      "x = 1.413714, eq(x) = 0.411529\n",
      "Iteration:  3\n",
      "x = 1.413302, eq(x) = 0.001333\n",
      "Iteration:  4\n",
      "x = 1.413301, eq(x) = 0.000000\n",
      "[-2.0885144889354708, -1.532373809814453, -0.740679168701172, -0.6109779357910157, 0.688866686820984, 1.2103778839111325, 1.413300895690918]\n",
      "[-2.088514489883859, -1.5323737987963868, -0.6109780498508607, -0.6109779495992387, 0.6888666713071041, 1.2103778850421125, 1.413300893454367]\n",
      "[-2.088514490431787, -1.532373801519221, -0.7406791601354938, -0.6109780069479557, 0.688866679587722, -0.7406791601042367, 1.413300896888745]\n"
     ]
    }
   ],
   "source": [
    "intervals = [(-2.15, -2.05), (-1.55, -1.45), (-0.75,-0.65), (-0.65,-0.55), (0.65,0.75), (1.15,1.25), (1.35,1.45)]\n",
    "bisect, chord, newt = roots_from_intervals(intervals)\n",
    "print(bisect)\n",
    "print(chord)\n",
    "print(newt)"
   ]
  },
  {
   "cell_type": "code",
   "execution_count": 105,
   "id": "dkJgbuZH7JJ-",
   "metadata": {
    "colab": {
     "base_uri": "https://localhost:8080/",
     "height": 265
    },
    "id": "dkJgbuZH7JJ-",
    "outputId": "cd16886e-d954-456a-c144-f1f0c7a3b23a"
   },
   "outputs": [
    {
     "data": {
      "image/png": "[encoded data removed]",
      "text/plain": [
       "<Figure size 432x288 with 1 Axes>"
      ]
     },
     "metadata": {
      "needs_background": "light"
     },
     "output_type": "display_data"
    }
   ],
   "source": [
    "# show the roots from bisection method\n",
    "y = [eq(x) for x in bisect]\n",
    "t=np.linspace(-2.25,2.5,10000)\n",
    "plt.plot(t,eq(t))\n",
    "plt.axhline(0, color='black')\n",
    "plt.plot(bisect, y, 'bo')\n",
    "plt.grid()"
   ]
  },
  {
   "cell_type": "markdown",
   "id": "ab57b880",
   "metadata": {},
   "source": [
    "### Порівняємо швидкість роботи функцій для кожного з методів на прикладі нашого рівняння"
   ]
  },
  {
   "cell_type": "code",
   "execution_count": 112,
   "id": "xYMetgE89hZi",
   "metadata": {
    "colab": {
     "base_uri": "https://localhost:8080/"
    },
    "id": "xYMetgE89hZi",
    "outputId": "9fa0d1f6-5413-4dab-9a89-8cb515a2b782"
   },
   "outputs": [
    {
     "name": "stdout",
     "output_type": "stream",
     "text": [
      "Iteration:  1\n",
      "a = -2.100000,b = -2.050000 : eq(a)= -64.201876, eq(b)= 174.250580\n",
      "Iteration:  2\n",
      "a = -2.100000,b = -2.075000 : eq(a)= -64.201876, eq(b)= 68.063757\n",
      "Iteration:  3\n",
      "a = -2.100000,b = -2.087500 : eq(a)= -64.201876, eq(b)= 5.384675\n",
      "Iteration:  4\n",
      "a = -2.093750,b = -2.087500 : eq(a)= -28.520125, eq(b)= 5.384675\n",
      "Iteration:  5\n",
      "a = -2.090625,b = -2.087500 : eq(a)= -11.348773, eq(b)= 5.384675\n",
      "Iteration:  6\n",
      "a = -2.089062,b = -2.087500 : eq(a)= -2.927704, eq(b)= 5.384675\n",
      "Iteration:  7\n",
      "a = -2.089062,b = -2.088281 : eq(a)= -2.927704, eq(b)= 1.242023\n",
      "Iteration:  8\n",
      "a = -2.088672,b = -2.088281 : eq(a)= -0.839450, eq(b)= 1.242023\n",
      "Iteration:  9\n",
      "a = -2.088672,b = -2.088477 : eq(a)= -0.839450, eq(b)= 0.202134\n",
      "Iteration:  10\n",
      "a = -2.088574,b = -2.088477 : eq(a)= -0.318446, eq(b)= 0.202134\n",
      "Iteration:  11\n",
      "a = -2.088525,b = -2.088477 : eq(a)= -0.058103, eq(b)= 0.202134\n",
      "Iteration:  12\n",
      "a = -2.088525,b = -2.088501 : eq(a)= -0.058103, eq(b)= 0.072028\n",
      "Iteration:  13\n",
      "a = -2.088525,b = -2.088513 : eq(a)= -0.058103, eq(b)= 0.006966\n",
      "Iteration:  14\n",
      "a = -2.088519,b = -2.088513 : eq(a)= -0.025568, eq(b)= 0.006966\n",
      "Iteration:  15\n",
      "a = -2.088516,b = -2.088513 : eq(a)= -0.009301, eq(b)= 0.006966\n",
      "Iteration:  16\n",
      "a = -2.088515,b = -2.088513 : eq(a)= -0.001168, eq(b)= 0.006966\n",
      "Iteration:  17\n",
      "a = -2.088515,b = -2.088514 : eq(a)= -0.001168, eq(b)= 0.002899\n",
      "Iteration:  18\n",
      "a = -2.088515,b = -2.088514 : eq(a)= -0.001168, eq(b)= 0.000866\n",
      "Iteration:  19\n",
      "a = -2.088515,b = -2.088514 : eq(a)= -0.000151, eq(b)= 0.000866\n",
      "Iteration:  20\n",
      "a = -2.088515,b = -2.088514 : eq(a)= -0.000151, eq(b)= 0.000357\n",
      "Iteration:  21\n",
      "a = -2.088515,b = -2.088514 : eq(a)= -0.000151, eq(b)= 0.000103\n",
      "Iteration:  22\n",
      "a = -2.088514,b = -2.088514 : eq(a)= -0.000024, eq(b)= 0.000103\n",
      "Iteration:  23\n",
      "a = -2.088514,b = -2.088514 : eq(a)= -0.000024, eq(b)= 0.000040\n",
      "Iteration:  24\n",
      "a = -2.088514,b = -2.088514 : eq(a)= -0.000024, eq(b)= 0.000008\n",
      "Iteration:  1\n",
      "a = -1.550000,b = -1.500000 : eq(a)= 19.816015, eq(b)= -33.343750\n",
      "Iteration:  2\n",
      "a = -1.550000,b = -1.525000 : eq(a)= 19.816015, eq(b)= -7.950661\n",
      "Iteration:  3\n",
      "a = -1.537500,b = -1.525000 : eq(a)= 5.646771, eq(b)= -7.950661\n",
      "Iteration:  4\n",
      "a = -1.537500,b = -1.531250 : eq(a)= 5.646771, eq(b)= -1.224906\n",
      "Iteration:  5\n",
      "a = -1.534375,b = -1.531250 : eq(a)= 2.192869, eq(b)= -1.224906\n",
      "Iteration:  6\n",
      "a = -1.532812,b = -1.531250 : eq(a)= 0.479443, eq(b)= -1.224906\n",
      "Iteration:  7\n",
      "a = -1.532812,b = -1.532031 : eq(a)= 0.479443, eq(b)= -0.373868\n",
      "Iteration:  8\n",
      "a = -1.532422,b = -1.532031 : eq(a)= 0.052503, eq(b)= -0.373868\n",
      "Iteration:  9\n",
      "a = -1.532422,b = -1.532227 : eq(a)= 0.052503, eq(b)= -0.160754\n",
      "Iteration:  10\n",
      "a = -1.532422,b = -1.532324 : eq(a)= 0.052503, eq(b)= -0.054143\n",
      "Iteration:  11\n",
      "a = -1.532422,b = -1.532373 : eq(a)= 0.052503, eq(b)= -0.000824\n",
      "Iteration:  12\n",
      "a = -1.532397,b = -1.532373 : eq(a)= 0.025839, eq(b)= -0.000824\n",
      "Iteration:  13\n",
      "a = -1.532385,b = -1.532373 : eq(a)= 0.012507, eq(b)= -0.000824\n",
      "Iteration:  14\n",
      "a = -1.532379,b = -1.532373 : eq(a)= 0.005841, eq(b)= -0.000824\n",
      "Iteration:  15\n",
      "a = -1.532376,b = -1.532373 : eq(a)= 0.002509, eq(b)= -0.000824\n",
      "Iteration:  16\n",
      "a = -1.532375,b = -1.532373 : eq(a)= 0.000842, eq(b)= -0.000824\n",
      "Iteration:  17\n",
      "a = -1.532374,b = -1.532373 : eq(a)= 0.000009, eq(b)= -0.000824\n",
      "Iteration:  1\n",
      "a = -0.750000,b = -0.700000 : eq(a)= -1.242065, eq(b)= 3.520226\n",
      "Iteration:  2\n",
      "a = -0.750000,b = -0.725000 : eq(a)= -1.242065, eq(b)= 1.727349\n",
      "Iteration:  3\n",
      "a = -0.750000,b = -0.737500 : eq(a)= -1.242065, eq(b)= 0.387187\n",
      "Iteration:  4\n",
      "a = -0.743750,b = -0.737500 : eq(a)= -0.391665, eq(b)= 0.387187\n",
      "Iteration:  5\n",
      "a = -0.743750,b = -0.740625 : eq(a)= -0.391665, eq(b)= 0.006752\n",
      "Iteration:  6\n",
      "a = -0.742188,b = -0.740625 : eq(a)= -0.190214, eq(b)= 0.006752\n",
      "Iteration:  7\n",
      "a = -0.741406,b = -0.740625 : eq(a)= -0.091170, eq(b)= 0.006752\n",
      "Iteration:  8\n",
      "a = -0.741016,b = -0.740625 : eq(a)= -0.042068, eq(b)= 0.006752\n",
      "Iteration:  9\n",
      "a = -0.740820,b = -0.740625 : eq(a)= -0.017623, eq(b)= 0.006752\n",
      "Iteration:  10\n",
      "a = -0.740723,b = -0.740625 : eq(a)= -0.005427, eq(b)= 0.006752\n",
      "Iteration:  11\n",
      "a = -0.740723,b = -0.740674 : eq(a)= -0.005427, eq(b)= 0.000665\n",
      "Iteration:  12\n",
      "a = -0.740698,b = -0.740674 : eq(a)= -0.002380, eq(b)= 0.000665\n",
      "Iteration:  13\n",
      "a = -0.740686,b = -0.740674 : eq(a)= -0.000858, eq(b)= 0.000665\n",
      "Iteration:  14\n",
      "a = -0.740680,b = -0.740674 : eq(a)= -0.000096, eq(b)= 0.000665\n",
      "Iteration:  15\n",
      "a = -0.740680,b = -0.740677 : eq(a)= -0.000096, eq(b)= 0.000284\n",
      "Iteration:  16\n",
      "a = -0.740680,b = -0.740678 : eq(a)= -0.000096, eq(b)= 0.000094\n",
      "Iteration:  17\n",
      "a = -0.740679,b = -0.740678 : eq(a)= -0.000001, eq(b)= 0.000094\n",
      "Iteration:  1\n",
      "a = -0.650000,b = -0.600000 : eq(a)= 3.462391, eq(b)= -1.510336\n",
      "Iteration:  2\n",
      "a = -0.625000,b = -0.600000 : eq(a)= 1.588124, eq(b)= -1.510336\n",
      "Iteration:  3\n",
      "a = -0.612500,b = -0.600000 : eq(a)= 0.190939, eq(b)= -1.510336\n",
      "Iteration:  4\n",
      "a = -0.612500,b = -0.606250 : eq(a)= 0.190939, eq(b)= -0.621852\n",
      "Iteration:  5\n",
      "a = -0.612500,b = -0.609375 : eq(a)= 0.190939, eq(b)= -0.205973\n",
      "Iteration:  6\n",
      "a = -0.612500,b = -0.610938 : eq(a)= 0.190939, eq(b)= -0.005143\n",
      "Iteration:  7\n",
      "a = -0.611719,b = -0.610938 : eq(a)= 0.093492, eq(b)= -0.005143\n",
      "Iteration:  8\n",
      "a = -0.611328,b = -0.610938 : eq(a)= 0.044323, eq(b)= -0.005143\n",
      "Iteration:  9\n",
      "a = -0.611133,b = -0.610938 : eq(a)= 0.019627, eq(b)= -0.005143\n",
      "Iteration:  10\n",
      "a = -0.611035,b = -0.610938 : eq(a)= 0.007251, eq(b)= -0.005143\n",
      "Iteration:  11\n",
      "a = -0.610986,b = -0.610938 : eq(a)= 0.001056, eq(b)= -0.005143\n",
      "Iteration:  12\n",
      "a = -0.610986,b = -0.610962 : eq(a)= 0.001056, eq(b)= -0.002043\n",
      "Iteration:  13\n",
      "a = -0.610986,b = -0.610974 : eq(a)= 0.001056, eq(b)= -0.000493\n",
      "Iteration:  14\n",
      "a = -0.610980,b = -0.610974 : eq(a)= 0.000281, eq(b)= -0.000493\n",
      "Iteration:  15\n",
      "a = -0.610980,b = -0.610977 : eq(a)= 0.000281, eq(b)= -0.000106\n",
      "Iteration:  16\n",
      "a = -0.610979,b = -0.610977 : eq(a)= 0.000088, eq(b)= -0.000106\n",
      "Iteration:  17\n",
      "a = -0.610979,b = -0.610978 : eq(a)= 0.000088, eq(b)= -0.000009\n",
      "Iteration:  1\n",
      "a = 0.650000,b = 0.700000 : eq(a)= -26.135096, eq(b)= 7.147976\n",
      "Iteration:  2\n",
      "a = 0.675000,b = 0.700000 : eq(a)= -9.130479, eq(b)= 7.147976\n",
      "Iteration:  3\n",
      "a = 0.687500,b = 0.700000 : eq(a)= -0.889085, eq(b)= 7.147976\n",
      "Iteration:  4\n",
      "a = 0.687500,b = 0.693750 : eq(a)= -0.889085, eq(b)= 3.156405\n",
      "Iteration:  5\n",
      "a = 0.687500,b = 0.690625 : eq(a)= -0.889085, eq(b)= 1.140223\n",
      "Iteration:  6\n",
      "a = 0.687500,b = 0.689063 : eq(a)= -0.889085, eq(b)= 0.127188\n",
      "Iteration:  7\n",
      "a = 0.688281,b = 0.689063 : eq(a)= -0.380546, eq(b)= 0.127188\n",
      "Iteration:  8\n",
      "a = 0.688672,b = 0.689063 : eq(a)= -0.126578, eq(b)= 0.127188\n",
      "Iteration:  9\n",
      "a = 0.688672,b = 0.688867 : eq(a)= -0.126578, eq(b)= 0.000330\n",
      "Iteration:  10\n",
      "a = 0.688770,b = 0.688867 : eq(a)= -0.063118, eq(b)= 0.000330\n",
      "Iteration:  11\n",
      "a = 0.688818,b = 0.688867 : eq(a)= -0.031392, eq(b)= 0.000330\n",
      "Iteration:  12\n",
      "a = 0.688843,b = 0.688867 : eq(a)= -0.015531, eq(b)= 0.000330\n",
      "Iteration:  13\n",
      "a = 0.688855,b = 0.688867 : eq(a)= -0.007600, eq(b)= 0.000330\n",
      "Iteration:  14\n",
      "a = 0.688861,b = 0.688867 : eq(a)= -0.003635, eq(b)= 0.000330\n",
      "Iteration:  15\n",
      "a = 0.688864,b = 0.688867 : eq(a)= -0.001653, eq(b)= 0.000330\n",
      "Iteration:  16\n",
      "a = 0.688866,b = 0.688867 : eq(a)= -0.000661, eq(b)= 0.000330\n",
      "Iteration:  17\n",
      "a = 0.688866,b = 0.688867 : eq(a)= -0.000166, eq(b)= 0.000330\n",
      "Iteration:  18\n",
      "a = 0.688866,b = 0.688867 : eq(a)= -0.000166, eq(b)= 0.000082\n",
      "Iteration:  19\n",
      "a = 0.688867,b = 0.688867 : eq(a)= -0.000042, eq(b)= 0.000082\n",
      "Iteration:  20\n",
      "a = 0.688867,b = 0.688867 : eq(a)= -0.000042, eq(b)= 0.000020\n",
      "Iteration:  21\n",
      "a = 0.688867,b = 0.688867 : eq(a)= -0.000011, eq(b)= 0.000020\n",
      "Iteration:  22\n",
      "a = 0.688867,b = 0.688867 : eq(a)= -0.000011, eq(b)= 0.000005\n",
      "Iteration:  1\n",
      "a = 1.200000,b = 1.250000 : eq(a)= 5.359616, eq(b)= -18.741089\n",
      "Iteration:  2\n",
      "a = 1.200000,b = 1.225000 : eq(a)= 5.359616, eq(b)= -7.301151\n",
      "Iteration:  3\n",
      "a = 1.200000,b = 1.212500 : eq(a)= 5.359616, eq(b)= -1.080105\n",
      "Iteration:  4\n",
      "a = 1.206250,b = 1.212500 : eq(a)= 2.117505, eq(b)= -1.080105\n",
      "Iteration:  5\n",
      "a = 1.209375,b = 1.212500 : eq(a)= 0.512516, eq(b)= -1.080105\n",
      "Iteration:  6\n",
      "a = 1.209375,b = 1.210938 : eq(a)= 0.512516, eq(b)= -0.285419\n",
      "Iteration:  7\n",
      "a = 1.210156,b = 1.210938 : eq(a)= 0.113152, eq(b)= -0.285419\n",
      "Iteration:  8\n",
      "a = 1.210156,b = 1.210547 : eq(a)= 0.113152, eq(b)= -0.086234\n",
      "Iteration:  9\n",
      "a = 1.210352,b = 1.210547 : eq(a)= 0.013434, eq(b)= -0.086234\n",
      "Iteration:  10\n",
      "a = 1.210352,b = 1.210449 : eq(a)= 0.013434, eq(b)= -0.036406\n",
      "Iteration:  11\n",
      "a = 1.210352,b = 1.210400 : eq(a)= 0.013434, eq(b)= -0.011488\n",
      "Iteration:  12\n",
      "a = 1.210376,b = 1.210400 : eq(a)= 0.000973, eq(b)= -0.011488\n",
      "Iteration:  13\n",
      "a = 1.210376,b = 1.210388 : eq(a)= 0.000973, eq(b)= -0.005258\n",
      "Iteration:  14\n",
      "a = 1.210376,b = 1.210382 : eq(a)= 0.000973, eq(b)= -0.002142\n",
      "Iteration:  15\n",
      "a = 1.210376,b = 1.210379 : eq(a)= 0.000973, eq(b)= -0.000585\n",
      "Iteration:  16\n",
      "a = 1.210378,b = 1.210379 : eq(a)= 0.000194, eq(b)= -0.000585\n",
      "Iteration:  17\n",
      "a = 1.210378,b = 1.210378 : eq(a)= 0.000194, eq(b)= -0.000195\n",
      "Iteration:  18\n",
      "a = 1.210378,b = 1.210378 : eq(a)= 0.000194, eq(b)= -0.000001\n",
      "Iteration:  1\n",
      "a = 1.400000,b = 1.450000 : eq(a)= -11.847616, eq(b)= 47.837617\n",
      "Iteration:  2\n",
      "a = 1.400000,b = 1.425000 : eq(a)= -11.847616, eq(b)= 12.702522\n",
      "Iteration:  3\n",
      "a = 1.412500,b = 1.425000 : eq(a)= -0.789295, eq(b)= 12.702522\n",
      "Iteration:  4\n",
      "a = 1.412500,b = 1.418750 : eq(a)= -0.789295, eq(b)= 5.639519\n",
      "Iteration:  5\n",
      "a = 1.412500,b = 1.415625 : eq(a)= -0.789295, eq(b)= 2.347476\n",
      "Iteration:  6\n",
      "a = 1.412500,b = 1.414062 : eq(a)= -0.789295, eq(b)= 0.759884\n",
      "Iteration:  7\n",
      "a = 1.413281,b = 1.414062 : eq(a)= -0.019482, eq(b)= 0.759884\n",
      "Iteration:  8\n",
      "a = 1.413281,b = 1.413672 : eq(a)= -0.019482, eq(b)= 0.369004\n",
      "Iteration:  9\n",
      "a = 1.413281,b = 1.413477 : eq(a)= -0.019482, eq(b)= 0.174462\n",
      "Iteration:  10\n",
      "a = 1.413281,b = 1.413379 : eq(a)= -0.019482, eq(b)= 0.077415\n",
      "Iteration:  11\n",
      "a = 1.413281,b = 1.413330 : eq(a)= -0.019482, eq(b)= 0.028948\n",
      "Iteration:  12\n",
      "a = 1.413281,b = 1.413306 : eq(a)= -0.019482, eq(b)= 0.004728\n",
      "Iteration:  13\n",
      "a = 1.413293,b = 1.413306 : eq(a)= -0.007378, eq(b)= 0.004728\n",
      "Iteration:  14\n",
      "a = 1.413300,b = 1.413306 : eq(a)= -0.001325, eq(b)= 0.004728\n",
      "Iteration:  15\n",
      "a = 1.413300,b = 1.413303 : eq(a)= -0.001325, eq(b)= 0.001701\n",
      "Iteration:  16\n",
      "a = 1.413300,b = 1.413301 : eq(a)= -0.001325, eq(b)= 0.000188\n",
      "Iteration:  17\n",
      "a = 1.413300,b = 1.413301 : eq(a)= -0.000569, eq(b)= 0.000188\n",
      "Iteration:  18\n",
      "a = 1.413301,b = 1.413301 : eq(a)= -0.000190, eq(b)= 0.000188\n",
      "Iteration:  19\n",
      "a = 1.413301,b = 1.413301 : eq(a)= -0.000001, eq(b)= 0.000188\n",
      "Iteration:  1\n",
      "x_0 = -2.050000,x = -2.079324 : eq(x_0)= 174.250580, eq(x)= 47.140190\n",
      "Iteration:  2\n",
      "x_0 = -2.079324,x = -2.086456 : eq(x_0)= 47.140190, eq(x)= 10.878184\n",
      "Iteration:  3\n",
      "x_0 = -2.086456,x = -2.088060 : eq(x_0)= 10.878184, eq(x)= 2.415884\n",
      "Iteration:  4\n",
      "x_0 = -2.088060,x = -2.088415 : eq(x_0)= 2.415884, eq(x)= 0.531937\n",
      "Iteration:  5\n",
      "x_0 = -2.088415,x = -2.088493 : eq(x_0)= 0.531937, eq(x)= 0.116901\n",
      "Iteration:  6\n",
      "x_0 = -2.088493,x = -2.088510 : eq(x_0)= 0.116901, eq(x)= 0.025680\n",
      "Iteration:  7\n",
      "x_0 = -2.088510,x = -2.088513 : eq(x_0)= 0.025680, eq(x)= 0.005641\n",
      "Iteration:  8\n",
      "x_0 = -2.088513,x = -2.088514 : eq(x_0)= 0.005641, eq(x)= 0.001239\n",
      "Iteration:  9\n",
      "x_0 = -2.088514,x = -2.088514 : eq(x_0)= 0.001239, eq(x)= 0.000272\n",
      "Iteration:  10\n",
      "x_0 = -2.088514,x = -2.088514 : eq(x_0)= 0.000272, eq(x)= 0.000060\n",
      "Iteration:  11\n",
      "x_0 = -2.088514,x = -2.088514 : eq(x_0)= 0.000060, eq(x)= 0.000013\n",
      "Iteration:  12\n",
      "x_0 = -2.088514,x = -2.088514 : eq(x_0)= 0.000013, eq(x)= 0.000003\n",
      "Iteration:  1\n",
      "x_0 = -1.550000,x = -1.529426 : eq(x_0)= 19.816015, eq(x)= -3.202914\n",
      "Iteration:  2\n",
      "x_0 = -1.529426,x = -1.532897 : eq(x_0)= -3.202914, eq(x)= 0.571625\n",
      "Iteration:  3\n",
      "x_0 = -1.532897,x = -1.532282 : eq(x_0)= 0.571625, eq(x)= -0.100299\n",
      "Iteration:  4\n",
      "x_0 = -1.532282,x = -1.532390 : eq(x_0)= -0.100299, eq(x)= 0.017652\n",
      "Iteration:  5\n",
      "x_0 = -1.532390,x = -1.532371 : eq(x_0)= 0.017652, eq(x)= -0.003105\n",
      "Iteration:  6\n",
      "x_0 = -1.532371,x = -1.532374 : eq(x_0)= -0.003105, eq(x)= 0.000546\n",
      "Iteration:  7\n",
      "x_0 = -1.532374,x = -1.532374 : eq(x_0)= 0.000546, eq(x)= -0.000096\n",
      "Iteration:  8\n",
      "x_0 = -1.532374,x = -1.532374 : eq(x_0)= -0.000096, eq(x)= 0.000017\n",
      "Iteration:  9\n",
      "x_0 = -1.532374,x = -1.532374 : eq(x_0)= 0.000017, eq(x)= -0.000003\n",
      "Iteration:  1\n",
      "x_0 = -0.750000,x = -0.723598 : eq(x_0)= -1.242065, eq(x)= 1.859382\n",
      "Iteration:  2\n",
      "x_0 = -0.723598,x = -0.808967 : eq(x_0)= 1.859382, eq(x)= -12.617827\n",
      "Iteration:  3\n",
      "x_0 = -0.808967,x = -0.684229 : eq(x_0)= -12.617827, eq(x)= 4.031103\n",
      "Iteration:  4\n",
      "x_0 = -0.684229,x = -0.441611 : eq(x_0)= 4.031103, eq(x)= -47.280352\n",
      "Iteration:  5\n",
      "x_0 = -0.441611,x = -0.635781 : eq(x_0)= -47.280352, eq(x)= 2.547240\n",
      "Iteration:  6\n",
      "x_0 = -0.635781,x = -0.596203 : eq(x_0)= 2.547240, eq(x)= -2.086942\n",
      "Iteration:  7\n",
      "x_0 = -0.596203,x = -0.616434 : eq(x_0)= -2.086942, eq(x)= 0.663609\n",
      "Iteration:  8\n",
      "x_0 = -0.616434,x = -0.608476 : eq(x_0)= 0.663609, eq(x)= -0.323710\n",
      "Iteration:  9\n",
      "x_0 = -0.608476,x = -0.612026 : eq(x_0)= -0.323710, eq(x)= 0.131959\n",
      "Iteration:  10\n",
      "x_0 = -0.612026,x = -0.610521 : eq(x_0)= 0.131959, eq(x)= -0.058161\n",
      "Iteration:  11\n",
      "x_0 = -0.610521,x = -0.611174 : eq(x_0)= -0.058161, eq(x)= 0.024791\n",
      "Iteration:  12\n",
      "x_0 = -0.611174,x = -0.610894 : eq(x_0)= 0.024791, eq(x)= -0.010721\n",
      "Iteration:  13\n",
      "x_0 = -0.610894,x = -0.611014 : eq(x_0)= -0.010721, eq(x)= 0.004607\n",
      "Iteration:  14\n",
      "x_0 = -0.611014,x = -0.610962 : eq(x_0)= 0.004607, eq(x)= -0.001985\n",
      "Iteration:  15\n",
      "x_0 = -0.610962,x = -0.610985 : eq(x_0)= -0.001985, eq(x)= 0.000855\n",
      "Iteration:  16\n",
      "x_0 = -0.610985,x = -0.610975 : eq(x_0)= 0.000855, eq(x)= -0.000368\n",
      "Iteration:  17\n",
      "x_0 = -0.610975,x = -0.610979 : eq(x_0)= -0.000368, eq(x)= 0.000158\n",
      "Iteration:  18\n",
      "x_0 = -0.610979,x = -0.610977 : eq(x_0)= 0.000158, eq(x)= -0.000068\n",
      "Iteration:  19\n",
      "x_0 = -0.610977,x = -0.610978 : eq(x_0)= -0.000068, eq(x)= 0.000029\n",
      "Iteration:  20\n",
      "x_0 = -0.610978,x = -0.610978 : eq(x_0)= 0.000029, eq(x)= -0.000013\n",
      "Iteration:  21\n",
      "x_0 = -0.610978,x = -0.610978 : eq(x_0)= -0.000013, eq(x)= 0.000005\n",
      "Iteration:  1\n",
      "x_0 = -0.550000,x = -0.626525 : eq(x_0)= -11.286607, eq(x)= 1.737614\n",
      "Iteration:  2\n",
      "x_0 = -0.626525,x = -0.602874 : eq(x_0)= 1.737614, eq(x)= -1.092340\n",
      "Iteration:  3\n",
      "x_0 = -0.602874,x = -0.614176 : eq(x_0)= -1.092340, eq(x)= 0.396021\n",
      "Iteration:  4\n",
      "x_0 = -0.614176,x = -0.609550 : eq(x_0)= 0.396021, eq(x)= -0.183282\n",
      "Iteration:  5\n",
      "x_0 = -0.609550,x = -0.611583 : eq(x_0)= -0.183282, eq(x)= 0.076475\n",
      "Iteration:  6\n",
      "x_0 = -0.611583,x = -0.610716 : eq(x_0)= 0.076475, eq(x)= -0.033374\n",
      "Iteration:  7\n",
      "x_0 = -0.610716,x = -0.611091 : eq(x_0)= -0.033374, eq(x)= 0.014287\n",
      "Iteration:  8\n",
      "x_0 = -0.611091,x = -0.610929 : eq(x_0)= 0.014287, eq(x)= -0.006167\n",
      "Iteration:  9\n",
      "x_0 = -0.610929,x = -0.610999 : eq(x_0)= -0.006167, eq(x)= 0.002652\n",
      "Iteration:  10\n",
      "x_0 = -0.610999,x = -0.610969 : eq(x_0)= 0.002652, eq(x)= -0.001143\n",
      "Iteration:  11\n",
      "x_0 = -0.610969,x = -0.610982 : eq(x_0)= -0.001143, eq(x)= 0.000492\n",
      "Iteration:  12\n",
      "x_0 = -0.610982,x = -0.610976 : eq(x_0)= 0.000492, eq(x)= -0.000212\n",
      "Iteration:  13\n",
      "x_0 = -0.610976,x = -0.610979 : eq(x_0)= -0.000212, eq(x)= 0.000091\n",
      "Iteration:  14\n",
      "x_0 = -0.610979,x = -0.610978 : eq(x_0)= 0.000091, eq(x)= -0.000039\n",
      "Iteration:  15\n",
      "x_0 = -0.610978,x = -0.610978 : eq(x_0)= -0.000039, eq(x)= 0.000017\n",
      "Iteration:  16\n",
      "x_0 = -0.610978,x = -0.610978 : eq(x_0)= 0.000017, eq(x)= -0.000007\n",
      "Iteration:  1\n",
      "x_0 = 0.650000,x = 0.691524 : eq(x_0)= -26.135096, eq(x)= 1.721422\n",
      "Iteration:  2\n",
      "x_0 = 0.691524,x = 0.688655 : eq(x_0)= 1.721422, eq(x)= -0.137861\n",
      "Iteration:  3\n",
      "x_0 = 0.688655,x = 0.688883 : eq(x_0)= -0.137861, eq(x)= 0.010888\n",
      "Iteration:  4\n",
      "x_0 = 0.688883,x = 0.688865 : eq(x_0)= 0.010888, eq(x)= -0.000861\n",
      "Iteration:  5\n",
      "x_0 = 0.688865,x = 0.688867 : eq(x_0)= -0.000861, eq(x)= 0.000068\n",
      "Iteration:  6\n",
      "x_0 = 0.688867,x = 0.688867 : eq(x_0)= 0.000068, eq(x)= -0.000005\n",
      "Iteration:  1\n",
      "x_0 = 1.250000,x = 1.212922 : eq(x_0)= -18.741089, eq(x)= -1.294261\n",
      "Iteration:  2\n",
      "x_0 = 1.212922,x = 1.210462 : eq(x_0)= -1.294261, eq(x)= -0.042796\n",
      "Iteration:  3\n",
      "x_0 = 1.210462,x = 1.210380 : eq(x_0)= -0.042796, eq(x)= -0.001332\n",
      "Iteration:  4\n",
      "x_0 = 1.210380,x = 1.210378 : eq(x_0)= -0.001332, eq(x)= -0.000041\n",
      "Iteration:  5\n",
      "x_0 = 1.210378,x = 1.210378 : eq(x_0)= -0.000041, eq(x)= -0.000001\n",
      "Iteration:  1\n",
      "x_0 = 1.350000,x = 1.392677 : eq(x_0)= -35.614402, eq(x)= -17.276608\n",
      "Iteration:  2\n",
      "x_0 = 1.392677,x = 1.407886 : eq(x_0)= -17.276608, eq(x)= -5.143614\n",
      "Iteration:  3\n",
      "x_0 = 1.407886,x = 1.411975 : eq(x_0)= -5.143614, eq(x)= -1.301661\n",
      "Iteration:  4\n",
      "x_0 = 1.411975,x = 1.412982 : eq(x_0)= -1.301661, eq(x)= -0.315617\n",
      "Iteration:  5\n",
      "x_0 = 1.412982,x = 1.413224 : eq(x_0)= -0.315617, eq(x)= -0.075731\n",
      "Iteration:  6\n",
      "x_0 = 1.413224,x = 1.413283 : eq(x_0)= -0.075731, eq(x)= -0.018126\n",
      "Iteration:  7\n",
      "x_0 = 1.413283,x = 1.413297 : eq(x_0)= -0.018126, eq(x)= -0.004336\n",
      "Iteration:  8\n",
      "x_0 = 1.413297,x = 1.413300 : eq(x_0)= -0.004336, eq(x)= -0.001037\n",
      "Iteration:  9\n",
      "x_0 = 1.413300,x = 1.413301 : eq(x_0)= -0.001037, eq(x)= -0.000248\n",
      "Iteration:  10\n",
      "x_0 = 1.413301,x = 1.413301 : eq(x_0)= -0.000248, eq(x)= -0.000059\n",
      "Iteration:  11\n",
      "x_0 = 1.413301,x = 1.413301 : eq(x_0)= -0.000059, eq(x)= -0.000014\n",
      "Iteration:  12\n",
      "x_0 = 1.413301,x = 1.413301 : eq(x_0)= -0.000014, eq(x)= -0.000003\n",
      "Iteration:  1\n",
      "x = -2.100429, eq(x) = -66.714853\n",
      "Iteration:  2\n",
      "x = -2.089071, eq(x) = -2.972977\n",
      "Iteration:  3\n",
      "x = -2.088516, eq(x) = -0.006855\n",
      "Iteration:  4\n",
      "x = -2.088514, eq(x) = -0.000000\n",
      "Iteration:  1\n",
      "x = -1.532854, eq(x) = 0.525175\n",
      "Iteration:  2\n",
      "x = -1.532374, eq(x) = 0.000429\n",
      "Iteration:  3\n",
      "x = -1.532374, eq(x) = 0.000000\n",
      "Iteration:  1\n",
      "x = -0.741237, eq(x) = -0.069914\n",
      "Iteration:  2\n",
      "x = -0.740681, eq(x) = -0.000284\n",
      "Iteration:  3\n",
      "x = -0.740679, eq(x) = -0.000000\n",
      "Iteration:  1\n",
      "x = -0.596670, eq(x) = -2.014513\n",
      "Iteration:  2\n",
      "x = -0.609700, eq(x) = -0.163794\n",
      "Iteration:  3\n",
      "x = -0.610966, eq(x) = -0.001556\n",
      "Iteration:  4\n",
      "x = -0.610978, eq(x) = -0.000000\n",
      "Iteration:  5\n",
      "x = -0.610978, eq(x) = 0.000000\n",
      "Iteration:  1\n",
      "x = 0.687753, eq(x) = -0.724443\n",
      "Iteration:  2\n",
      "x = 0.688865, eq(x) = -0.000814\n",
      "Iteration:  3\n",
      "x = 0.688867, eq(x) = -0.000000\n",
      "Iteration:  1\n",
      "x = -0.882759, eq(x) = -34.267805\n",
      "Iteration:  2\n",
      "x = -0.781734, eq(x) = -6.633113\n",
      "Iteration:  3\n",
      "x = -0.748125, eq(x) = -0.979507\n",
      "Iteration:  4\n",
      "x = -0.741045, eq(x) = -0.045752\n",
      "Iteration:  5\n",
      "x = -0.740680, eq(x) = -0.000123\n",
      "Iteration:  6\n",
      "x = -0.740679, eq(x) = -0.000000\n",
      "Iteration:  1\n",
      "x = 1.420841, eq(x) = 7.931144\n",
      "Iteration:  2\n",
      "x = 1.413714, eq(x) = 0.411529\n",
      "Iteration:  3\n",
      "x = 1.413302, eq(x) = 0.001333\n",
      "Iteration:  4\n",
      "x = 1.413301, eq(x) = 0.000000\n"
     ]
    }
   ],
   "source": [
    "# Let's check, which of those methods is technically faster\n",
    "time_dict = {}\n",
    "intervals = [(-2.15, -2.05), (-1.55, -1.45), (-0.75,-0.65), (-0.65,-0.55), (0.65,0.75), (1.15,1.25), (1.35,1.45)]\n",
    "\n",
    "start1 = time.time()\n",
    "for i,j in intervals:\n",
    "  bisection_method(i,j)\n",
    "end1 = time.time()\n",
    "start2 = time.time()\n",
    "\n",
    "for i,j in intervals:\n",
    "  chord_method(i,j)\n",
    "end2 = time.time()\n",
    "\n",
    "start3 = time.time()\n",
    "for i,j in intervals:\n",
    "  newtons_method(i,j)\n",
    "end3 = time.time()\n",
    "\n",
    "time_dict['bisection_method'] = end1 - start1\n",
    "time_dict['chord_method'] = end2 - start2\n",
    "time_dict['newtons_method'] = end3 - start3\n"
   ]
  },
  {
   "cell_type": "code",
   "execution_count": 113,
   "id": "SBkrVOrU-Dnd",
   "metadata": {
    "colab": {
     "base_uri": "https://localhost:8080/"
    },
    "id": "SBkrVOrU-Dnd",
    "outputId": "e2da5b7e-d308-4c51-83b4-0bd0df71444c"
   },
   "outputs": [
    {
     "name": "stdout",
     "output_type": "stream",
     "text": [
      "{'bisection_method': 0.05203413963317871, 'chord_method': 0.020914554595947266, 'newtons_method': 0.006373167037963867}\n"
     ]
    }
   ],
   "source": [
    "print(time_dict)"
   ]
  },
  {
   "cell_type": "markdown",
   "id": "fb0b0d1a",
   "metadata": {},
   "source": [
    "### Бачимо, що метод Ньютона виявився найшвидшим, а метод хорд - найповільнішим"
   ]
  },
  {
   "cell_type": "markdown",
   "id": "WLJwFAfUuamx",
   "metadata": {
    "id": "WLJwFAfUuamx"
   },
   "source": [
    "# Завдання 2"
   ]
  },
  {
   "cell_type": "markdown",
   "id": "51ca3ee3",
   "metadata": {
    "id": "51ca3ee3"
   },
   "source": [
    "Потрібно відокремити корені рівняння $xlgx-1.2=0$. В цьому випадку корисно попередньо знайти область визначення $f(x)$ та проміжки зростання\\спадання функції. "
   ]
  },
  {
   "cell_type": "markdown",
   "id": "2e212f81",
   "metadata": {
    "id": "2e212f81"
   },
   "source": [
    "Область визначення $f(x)=2lgx-x+1$ проміжок $(0;\\infty)$. Знайдемо інтервали монотонності. \n",
    "$f'(x)=lg(x) + \\frac{1}{ln10}$, "
   ]
  },
  {
   "cell_type": "markdown",
   "id": "5db83555",
   "metadata": {
    "id": "5db83555"
   },
   "source": [
    "$f(x)$ зростає на $(0; 10^{-\\frac{1}{ln10}})$, спадає на $(10^{-\\frac{1}{ln10}},\\infty)$. "
   ]
  },
  {
   "cell_type": "markdown",
   "id": "5dd840dd",
   "metadata": {
    "id": "5dd840dd"
   },
   "source": [
    "$x=10^{-\\frac{1}{ln10}}\\approx0,367879$. "
   ]
  },
  {
   "cell_type": "code",
   "execution_count": 60,
   "id": "c1dfbba7",
   "metadata": {
    "colab": {
     "base_uri": "https://localhost:8080/",
     "height": 265
    },
    "id": "c1dfbba7",
    "outputId": "88b01641-dbc7-4817-a537-820b803ecd31"
   },
   "outputs": [
    {
     "data": {
      "image/png": "[encoded data removed]",
      "text/plain": [
       "<Figure size 432x288 with 1 Axes>"
      ]
     },
     "metadata": {
      "needs_background": "light"
     },
     "output_type": "display_data"
    }
   ],
   "source": [
    "x=np.linspace(0.1,5,100) \n",
    "plt.plot(x,x*np.log10(x)-1.2)\n",
    "plt.axhline(0, color='black')\n",
    "plt.grid()"
   ]
  },
  {
   "cell_type": "code",
   "execution_count": 82,
   "id": "puAKAs23zlyu",
   "metadata": {
    "colab": {
     "base_uri": "https://localhost:8080/"
    },
    "id": "puAKAs23zlyu",
    "outputId": "591b8ca0-70cc-4161-8a10-1c06be21a5a6"
   },
   "outputs": [
    {
     "name": "stdout",
     "output_type": "stream",
     "text": [
      "[2.7406461] [150515.01859365]\n"
     ]
    }
   ],
   "source": [
    "def eq2(x): return np.log10(x)*x-1.2\n",
    "x = fsolve(eq2,1.5)\n",
    "print(x, eq(x))"
   ]
  },
  {
   "cell_type": "code",
   "execution_count": null,
   "id": "22_vZLmo4Odz",
   "metadata": {
    "id": "22_vZLmo4Odz"
   },
   "outputs": [],
   "source": []
  }
 ],
 "metadata": {
  "colab": {
   "name": "Lab_1_ЧМ.ipynb",
   "provenance": []
  },
  "kernelspec": {
   "display_name": "Python 3 (ipykernel)",
   "language": "python",
   "name": "python3"
  },
  "language_info": {
   "codemirror_mode": {
    "name": "ipython",
    "version": 3
   },
   "file_extension": ".py",
   "mimetype": "text/x-python",
   "name": "python",
   "nbconvert_exporter": "python",
   "pygments_lexer": "ipython3",
   "version": "3.9.5"
  }
 },
 "nbformat": 4,
 "nbformat_minor": 5
}
